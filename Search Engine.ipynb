{
 "nbformat": 4,
 "nbformat_minor": 2,
 "metadata": {
  "language_info": {
   "name": "python",
   "codemirror_mode": {
    "name": "ipython",
    "version": 3
   },
   "version": "3.8.1-final"
  },
  "orig_nbformat": 2,
  "file_extension": ".py",
  "mimetype": "text/x-python",
  "name": "python",
  "npconvert_exporter": "python",
  "pygments_lexer": "ipython3",
  "version": 3,
  "kernelspec": {
   "name": "python38132bit40c5c076fcb546cf91da20101f2cda2d",
   "display_name": "Python 3.8.1 32-bit"
  }
 },
 "cells": [
  {
   "cell_type": "markdown",
   "metadata": {},
   "source": [
    "In order to build our image search engine on digits data set we're going to use the hog descriptor"
   ]
  },
  {
   "cell_type": "code",
   "execution_count": 14,
   "metadata": {},
   "outputs": [],
   "source": [
    "from sklearn import datasets\n",
    "import matplotlib.pyplot as plt\n",
    "import cv2\n",
    "from sklearn import datasets\n",
    "from PIL import Image\n",
    "import numpy as np"
   ]
  },
  {
   "cell_type": "code",
   "execution_count": 3,
   "metadata": {},
   "outputs": [
    {
     "data": {
      "text/plain": "1797"
     },
     "execution_count": 3,
     "metadata": {},
     "output_type": "execute_result"
    }
   ],
   "source": [
    "digits = datasets.load_digits()\n",
    "len(digits.images)"
   ]
  },
  {
   "cell_type": "markdown",
   "metadata": {},
   "source": [
    "## Showing 50 images using matplotlib"
   ]
  },
  {
   "cell_type": "code",
   "execution_count": 4,
   "metadata": {},
   "outputs": [
    {
     "data": {
      "image/png": "[encoded data removed]",
      "text/plain": "<Figure size 720x720 with 50 Axes>"
     },
     "metadata": {},
     "output_type": "display_data"
    }
   ],
   "source": [
    "plt.figure(figsize=(10,10))\n",
    "for i in range(50):\n",
    "    plt.subplot(5,10,i+1)\n",
    "    plt.xticks([])\n",
    "    plt.yticks([])\n",
    "    plt.grid(False)\n",
    "    plt.imshow(digits.images[i], cmap=plt.cm.binary)\n",
    "plt.show()"
   ]
  },
  {
   "cell_type": "code",
   "execution_count": 34,
   "metadata": {},
   "outputs": [],
   "source": [
    "def Projection(image):\n",
    "    array = np.array(image)\n",
    "    horz_proj = np.array([np.count_nonzero(row) for row in array])\n",
    "    img_trans = array.transpose()\n",
    "    ver_proj = np.array([np.count_nonzero(row) for row in img_trans])\n",
    "\n",
    "    return horz_proj,ver_proj"
   ]
  },
  {
   "cell_type": "code",
   "execution_count": 35,
   "metadata": {},
   "outputs": [],
   "source": [
    "def correlation(x,y):\n",
    "    fracA = sum((x-np.average(x))*(y-np.average(y)))\n",
    "    fracB = np.sqrt(sum(np.power(x-np.average(x),2)))*np.sqrt(sum(np.power(y-np.average(y),2)))\n",
    "    return fracA/fracB\n",
    "\n",
    "def minkowski_distance(x,y,p):\n",
    "    return np.sum(np.abs(x-y)**p)**(1/p)\n",
    "\n",
    "def euclidianne_distance(x,y):\n",
    "    return minkowski_distance(x,y,2)\n",
    "\n",
    "def manhathan_distance(x,y):\n",
    "    return minkowski_distance(x,y,1)\n",
    "\n",
    "def lim_plus_distance(x,y):\n",
    "    return np.max(np.abs(x-y))\n",
    "\n",
    "def lim_min_distance(x,y):\n",
    "    return np.min(np.abs(x-y))\n",
    "\n",
    "def cosine(x,y):\n",
    "    return np.sum(x*y)/(np.sqrt(np.sum(x**2))*np.sqrt(np.sum(y**2)))"
   ]
  },
  {
   "cell_type": "code",
   "execution_count": 36,
   "metadata": {},
   "outputs": [],
   "source": [
    "#empty object to hold image and it's descriptor\n",
    "image_and_desc = { 'image':[],'desc':[]}\n",
    "\n",
    "#empty list to hold all images and descriptors\n",
    "images_descriptors = []\n",
    "\n",
    "for image in digits.images:\n",
    "    #looping through images\n",
    "    image_and_desc['image'] = image\n",
    "\n",
    "    #calculting projection vector\n",
    "    _,ver_proj= Projection(image)\n",
    "    image_and_desc['desc'] = ver_proj\n",
    "\n",
    "    \n",
    "    images_descriptors.append(image_and_desc)\n",
    "    image_and_desc = { 'image':[],'desc':[]}\n",
    ""
   ]
  },
  {
   "cell_type": "code",
   "execution_count": 61,
   "metadata": {},
   "outputs": [],
   "source": [
    "#Getting one Query Image\n",
    "query_image = digits.images[5]\n",
    "_,ver_proj = Projection(query_image)\n",
    "\n",
    "for image_and_desc in images_descriptors:\n",
    "    image_and_desc['distance'] = correlation(ver_proj,image_and_desc['desc'])\n",
    "\n",
    "images_descriptors.sort(key = lambda x:x['distance'])"
   ]
  },
  {
   "cell_type": "code",
   "execution_count": 57,
   "metadata": {},
   "outputs": [
    {
     "data": {
      "text/plain": "1797"
     },
     "execution_count": 57,
     "metadata": {},
     "output_type": "execute_result"
    }
   ],
   "source": [
    "len(images_descriptors)"
   ]
  },
  {
   "cell_type": "code",
   "execution_count": 64,
   "metadata": {},
   "outputs": [
    {
     "data": {
      "image/png": "[encoded data removed]",
      "text/plain": "<Figure size 720x720 with 10 Axes>"
     },
     "metadata": {
      "needs_background": "light"
     },
     "output_type": "display_data"
    }
   ],
   "source": [
    "plt.figure(figsize=(10,10))\n",
    "for i in range(10):\n",
    "\n",
    "    image_and_desc = images_descriptors[i]\n",
    "\n",
    "    plt.subplot(5,10,i+1)\n",
    "    plt.xticks([image_and_desc['distance']])\n",
    "    plt.yticks([])\n",
    "    plt.grid(False)\n",
    "    plt.imshow(image_and_desc['image'], cmap=plt.cm.binary)\n",
    "plt.show()"
   ]
  },
  {
   "cell_type": "code",
   "execution_count": null,
   "metadata": {},
   "outputs": [],
   "source": []
  },
  {
   "cell_type": "code",
   "execution_count": null,
   "metadata": {},
   "outputs": [],
   "source": []
  },
  {
   "cell_type": "code",
   "execution_count": null,
   "metadata": {},
   "outputs": [],
   "source": []
  },
  {
   "cell_type": "code",
   "execution_count": null,
   "metadata": {},
   "outputs": [],
   "source": []
  }
 ]
}