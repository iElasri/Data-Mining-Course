{
 "cells": [
  {
   "cell_type": "code",
   "execution_count": 1,
   "metadata": {},
   "outputs": [
    {
     "name": "stdout",
     "output_type": "stream",
     "text": [
      "          A         B         C         D         E\n",
      "A  0.000000  0.492552  0.294016  0.269367  0.467866\n",
      "B  0.492552  0.000000  0.734902  0.759404  0.291261\n",
      "C  0.294016  0.734902  0.000000  0.164032  0.760104\n",
      "D  0.269367  0.759404  0.164032  0.000000  0.720454\n",
      "E  0.467866  0.291261  0.760104  0.720454  0.000000\n"
     ]
    }
   ],
   "source": [
    "import numpy as np\n",
    "import pandas as pd\n",
    "points = np.random.rand(5,2)\n",
    "names = ['A','B','C','D','E']\n",
    "distances=np.empty((5,5))\n",
    "for i in range(5):\n",
    "    for j in range(5):\n",
    "        distances[i][j] = np.linalg.norm(points[i]-points[j])\n",
    "distDF = pd.DataFrame(distances, columns = names, index=names)\n",
    "print(distDF)"
   ]
  },
  {
   "cell_type": "code",
   "execution_count": 3,
   "metadata": {},
   "outputs": [
    {
     "name": "stdout",
     "output_type": "stream",
     "text": [
      "[[0.         0.49255163 0.29401637 0.26936652 0.46786568]\n",
      " [0.49255163 0.         0.73490218 0.7594042  0.29126083]\n",
      " [0.29401637 0.73490218 0.         0.16403213 0.7601041 ]\n",
      " [0.26936652 0.7594042  0.16403213 0.         0.72045416]\n",
      " [0.46786568 0.29126083 0.7601041  0.72045416 0.        ]]\n"
     ]
    }
   ],
   "source": [
    "print(distances)"
   ]
  },
  {
   "cell_type": "code",
   "execution_count": null,
   "metadata": {},
   "outputs": [],
   "source": []
  }
 ],
 "metadata": {
  "kernelspec": {
   "display_name": "Python 3",
   "language": "python",
   "name": "python3"
  },
  "language_info": {
   "codemirror_mode": {
    "name": "ipython",
    "version": 3
   },
   "file_extension": ".py",
   "mimetype": "text/x-python",
   "name": "python",
   "nbconvert_exporter": "python",
   "pygments_lexer": "ipython3",
   "version": "3.7.3"
  }
 },
 "nbformat": 4,
 "nbformat_minor": 4
}
