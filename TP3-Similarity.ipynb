{
 "nbformat": 4,
 "nbformat_minor": 2,
 "metadata": {
  "language_info": {
   "name": "python",
   "codemirror_mode": {
    "name": "ipython",
    "version": 3
   },
   "version": "3.7.6-final"
  },
  "orig_nbformat": 2,
  "file_extension": ".py",
  "mimetype": "text/x-python",
  "name": "python",
  "npconvert_exporter": "python",
  "pygments_lexer": "ipython3",
  "version": 3,
  "kernelspec": {
   "name": "python37664bit7bcce433135f493d8d948432b28ff3f6",
   "display_name": "Python 3.7.6 64-bit"
  }
 },
 "cells": [
  {
   "cell_type": "code",
   "execution_count": 6,
   "metadata": {},
   "outputs": [],
   "source": [
    "import numpy as np"
   ]
  },
  {
   "cell_type": "code",
   "execution_count": 3,
   "metadata": {},
   "outputs": [],
   "source": [
    "def jaccard_similarity(list1, list2):\n",
    "    a = set(list1)\n",
    "    b = set(list2)\n",
    "    intersection = len(list(a.intersection(b)))\n",
    "    union = (len(a) + len(b)) - intersection\n",
    "    return float(intersection) / union"
   ]
  },
  {
   "cell_type": "code",
   "execution_count": 4,
   "metadata": {},
   "outputs": [
    {
     "name": "stdout",
     "output_type": "stream",
     "text": "{'m', 'S', 'a', '.', ' ', 'I'}\n12\n"
    },
    {
     "data": {
      "text/plain": "1.0"
     },
     "execution_count": 4,
     "metadata": {},
     "output_type": "execute_result"
    }
   ],
   "source": [
    "a = 'I am Sam.'\n",
    "b = 'Sam I am.'\n",
    "print(set(a).intersection(set(b)))\n",
    "print((len(a) + len(b)) - len(set(a).intersection(set(b))))\n",
    "jaccard_similarity(a,b)"
   ]
  },
  {
   "cell_type": "code",
   "execution_count": 1,
   "metadata": {},
   "outputs": [],
   "source": [
    "def correlation(x,y):\n",
    "    fracA = sum((x-np.average(x))*(y-np.average(y)))\n",
    "    fracB = np.sqrt(sum(np.power(x-np.average(x),2)))*np.sqrt(sum(np.power(y-np.average(y),2)))\n",
    "    return fracA/fracB\n",
    "\n",
    "def minkowski_distance(x,y,p):\n",
    "    return np.sum(np.abs(x-y)**p)**(1/p)\n",
    "\n",
    "def euclidianne_distance(x,y):\n",
    "    return minkowski_distance(x,y,2)\n",
    "\n",
    "def manhathan_distance(x,y):\n",
    "    return minkowski_distance(x,y,1)\n",
    "\n",
    "def lim_plus_distance(x,y):\n",
    "    return np.max(np.abs(x-y))\n",
    "\n",
    "def lim_min_distance(x,y):\n",
    "    return np.min(np.abs(x-y))\n",
    "\n",
    "def cosine(x,y):\n",
    "    return np.sum(x*y)/(np.sqrt(np.sum(x**2))*np.sqrt(np.sum(y**2)))"
   ]
  },
  {
   "cell_type": "code",
   "execution_count": 11,
   "metadata": {},
   "outputs": [],
   "source": [
    "X = np.random.rand(1,10)*100\n",
    "Y = np.random.rand(1,10)*100"
   ]
  },
  {
   "cell_type": "code",
   "execution_count": 12,
   "metadata": {},
   "outputs": [
    {
     "data": {
      "text/plain": "(array([[16.35683878, 80.17193353, 16.52312599, 66.520801  , 10.01694846,\n         25.24467412, 79.27988273, 16.11695601, 38.11557479, 68.97887391]]),\n array([[54.49909311, 61.68114843, 49.98269839, 66.09270842, 85.73994146,\n         28.87163853, 66.25220512, 34.11457949, 70.34765014, 78.64092064]]))"
     },
     "execution_count": 12,
     "metadata": {},
     "output_type": "execute_result"
    }
   ],
   "source": [
    "X,Y"
   ]
  },
  {
   "cell_type": "code",
   "execution_count": 13,
   "metadata": {},
   "outputs": [
    {
     "name": "stdout",
     "output_type": "stream",
     "text": "[ 1.  1.  1.  1. -1.  1.  1.  1. -1.  1.]\n"
    }
   ],
   "source": [
    "print(correlation(X,Y))"
   ]
  },
  {
   "cell_type": "code",
   "execution_count": 14,
   "metadata": {},
   "outputs": [
    {
     "name": "stdout",
     "output_type": "stream",
     "text": "101.43712412073315\n"
    }
   ],
   "source": [
    "print(minkowski_distance(X,Y,2))"
   ]
  },
  {
   "cell_type": "code",
   "execution_count": 15,
   "metadata": {},
   "outputs": [
    {
     "name": "stdout",
     "output_type": "stream",
     "text": "101.43712412073315\n"
    }
   ],
   "source": [
    "print(euclidianne_distance(X,Y))"
   ]
  },
  {
   "cell_type": "code",
   "execution_count": 16,
   "metadata": {},
   "outputs": [
    {
     "name": "stdout",
     "output_type": "stream",
     "text": "0.428092580241227\n"
    }
   ],
   "source": [
    "print(lim_min_distance(X,Y))"
   ]
  },
  {
   "cell_type": "code",
   "execution_count": 17,
   "metadata": {},
   "outputs": [
    {
     "name": "stdout",
     "output_type": "stream",
     "text": "75.72299299901896\n"
    }
   ],
   "source": [
    "print(lim_plus_distance(X,Y))"
   ]
  },
  {
   "cell_type": "code",
   "execution_count": 18,
   "metadata": {},
   "outputs": [
    {
     "name": "stdout",
     "output_type": "stream",
     "text": "0.8577473657849968\n"
    }
   ],
   "source": [
    "print(cosine(X,Y))"
   ]
  },
  {
   "cell_type": "markdown",
   "execution_count": null,
   "metadata": {},
   "outputs": [],
   "source": [
    "# END"
   ]
  }
 ]
}