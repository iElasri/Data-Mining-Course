{
 "nbformat": 4,
 "nbformat_minor": 2,
 "metadata": {
  "language_info": {
   "name": "python",
   "codemirror_mode": {
    "name": "ipython",
    "version": 3
   },
   "version": "3.8.1-final"
  },
  "orig_nbformat": 2,
  "file_extension": ".py",
  "mimetype": "text/x-python",
  "name": "python",
  "npconvert_exporter": "python",
  "pygments_lexer": "ipython3",
  "version": 3,
  "kernelspec": {
   "name": "python38132bit40c5c076fcb546cf91da20101f2cda2d",
   "display_name": "Python 3.8.1 32-bit"
  }
 },
 "cells": [
  {
   "cell_type": "markdown",
   "metadata": {},
   "source": [
    "# fashin Mnist "
   ]
  },
  {
   "cell_type": "code",
   "execution_count": null,
   "metadata": {},
   "outputs": [
    {
     "output_type": "error",
     "ename": "Error",
     "evalue": "Invalid response: 500 Internal Server Error",
     "traceback": [
      "Error: Invalid response: 500 Internal Server Error",
      "at c:\\Users\\Heidiki\\.vscode\\extensions\\ms-python.python-2020.2.64397\\out\\client\\node_modules\\@jupyterlab\\services.js:3:553612",
      "at async t.SessionManager.startNew (c:\\Users\\Heidiki\\.vscode\\extensions\\ms-python.python-2020.2.64397\\out\\client\\node_modules\\@jupyterlab\\services.js:3:545135)",
      "at async S.changeKernel (c:\\Users\\Heidiki\\.vscode\\extensions\\ms-python.python-2020.2.64397\\out\\client\\extension.js:1:486027)",
      "at async d.createNotebookInstance (c:\\Users\\Heidiki\\.vscode\\extensions\\ms-python.python-2020.2.64397\\out\\client\\extension.js:75:984684)",
      "at async A.ensureNotebookImpl (c:\\Users\\Heidiki\\.vscode\\extensions\\ms-python.python-2020.2.64397\\out\\client\\extension.js:1:790552)"
     ]
    }
   ],
   "source": [
    "#Installing keras\n#!pip install Keras\npip install tensorflow"
   ]
  },
  {
   "cell_type": "code",
   "execution_count": null,
   "metadata": {},
   "outputs": [
    {
     "output_type": "error",
     "ename": "Error",
     "evalue": "Invalid response: 500 Internal Server Error",
     "traceback": [
      "Error: Invalid response: 500 Internal Server Error",
      "at c:\\Users\\Heidiki\\.vscode\\extensions\\ms-python.python-2020.2.64397\\out\\client\\node_modules\\@jupyterlab\\services.js:3:553612",
      "at async t.SessionManager.startNew (c:\\Users\\Heidiki\\.vscode\\extensions\\ms-python.python-2020.2.64397\\out\\client\\node_modules\\@jupyterlab\\services.js:3:545135)",
      "at async S.connect (c:\\Users\\Heidiki\\.vscode\\extensions\\ms-python.python-2020.2.64397\\out\\client\\extension.js:1:485234)",
      "at async t.JupyterSessionManager.startNew (c:\\Users\\Heidiki\\.vscode\\extensions\\ms-python.python-2020.2.64397\\out\\client\\extension.js:75:1013334)",
      "at async d.createNotebookInstance (c:\\Users\\Heidiki\\.vscode\\extensions\\ms-python.python-2020.2.64397\\out\\client\\extension.js:75:984800)",
      "at async A.ensureNotebookImpl (c:\\Users\\Heidiki\\.vscode\\extensions\\ms-python.python-2020.2.64397\\out\\client\\extension.js:1:790552)"
     ]
    }
   ],
   "source": [
    "print(\"shit\")"
   ]
  },
  {
   "cell_type": "code",
   "execution_count": null,
   "metadata": {},
   "outputs": [],
   "source": []
  }
 ]
}