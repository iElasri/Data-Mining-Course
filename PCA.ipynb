{
 "nbformat": 4,
 "nbformat_minor": 2,
 "metadata": {
  "language_info": {
   "name": "python",
   "codemirror_mode": {
    "name": "ipython",
    "version": 3
   },
   "version": "3.7.6-final"
  },
  "orig_nbformat": 2,
  "file_extension": ".py",
  "mimetype": "text/x-python",
  "name": "python",
  "npconvert_exporter": "python",
  "pygments_lexer": "ipython3",
  "version": 3,
  "kernelspec": {
   "name": "python37664bit7bcce433135f493d8d948432b28ff3f6",
   "display_name": "Python 3.7.6 64-bit"
  }
 },
 "cells": [
  {
   "cell_type": "code",
   "execution_count": 1,
   "metadata": {},
   "outputs": [],
   "source": [
    "import os\n",
    "import pandas"
   ]
  },
  {
   "cell_type": "code",
   "execution_count": 2,
   "metadata": {},
   "outputs": [
    {
     "name": "stdout",
     "output_type": "stream",
     "text": "1.0.1\n"
    }
   ],
   "source": [
    "print(pandas.__version__)"
   ]
  },
  {
   "cell_type": "code",
   "execution_count": 3,
   "metadata": {},
   "outputs": [],
   "source": [
    "X = pandas.read_excel(\"autos.xlsx\",sheet_name=0,header=0,index_col=0)"
   ]
  },
  {
   "cell_type": "code",
   "execution_count": 9,
   "metadata": {},
   "outputs": [
    {
     "name": "stdout",
     "output_type": "stream",
     "text": "(18, 6)\n"
    }
   ],
   "source": [
    "print(X.shape)\n",
    "n , p = X.shape"
   ]
  },
  {
   "cell_type": "code",
   "execution_count": 15,
   "metadata": {},
   "outputs": [
    {
     "data": {
      "text/html": "<div>\n<style scoped>\n    .dataframe tbody tr th:only-of-type {\n        vertical-align: middle;\n    }\n\n    .dataframe tbody tr th {\n        vertical-align: top;\n    }\n\n    .dataframe thead th {\n        text-align: right;\n    }\n</style>\n<table border=\"1\" class=\"dataframe\">\n  <thead>\n    <tr style=\"text-align: right;\">\n      <th></th>\n      <th>CYL</th>\n      <th>PUISS</th>\n      <th>LONG</th>\n      <th>LARG</th>\n      <th>POIDS</th>\n      <th>V.MAX</th>\n    </tr>\n    <tr>\n      <th>Modele</th>\n      <th></th>\n      <th></th>\n      <th></th>\n      <th></th>\n      <th></th>\n      <th></th>\n    </tr>\n  </thead>\n  <tbody>\n    <tr>\n      <th>Alfasud TI</th>\n      <td>1350</td>\n      <td>79</td>\n      <td>393</td>\n      <td>161</td>\n      <td>870</td>\n      <td>165</td>\n    </tr>\n    <tr>\n      <th>Audi 100</th>\n      <td>1588</td>\n      <td>85</td>\n      <td>468</td>\n      <td>177</td>\n      <td>1110</td>\n      <td>160</td>\n    </tr>\n    <tr>\n      <th>Simca 1300</th>\n      <td>1294</td>\n      <td>68</td>\n      <td>424</td>\n      <td>168</td>\n      <td>1050</td>\n      <td>152</td>\n    </tr>\n    <tr>\n      <th>Citroen GS Club</th>\n      <td>1222</td>\n      <td>59</td>\n      <td>412</td>\n      <td>161</td>\n      <td>930</td>\n      <td>151</td>\n    </tr>\n    <tr>\n      <th>Fiat 132</th>\n      <td>1585</td>\n      <td>98</td>\n      <td>439</td>\n      <td>164</td>\n      <td>1105</td>\n      <td>165</td>\n    </tr>\n    <tr>\n      <th>Lancia Beta</th>\n      <td>1297</td>\n      <td>82</td>\n      <td>429</td>\n      <td>169</td>\n      <td>1080</td>\n      <td>160</td>\n    </tr>\n    <tr>\n      <th>Peugeot 504</th>\n      <td>1796</td>\n      <td>79</td>\n      <td>449</td>\n      <td>169</td>\n      <td>1160</td>\n      <td>154</td>\n    </tr>\n    <tr>\n      <th>Renault 16 TL</th>\n      <td>1565</td>\n      <td>55</td>\n      <td>424</td>\n      <td>163</td>\n      <td>1010</td>\n      <td>140</td>\n    </tr>\n    <tr>\n      <th>Renault 30</th>\n      <td>2664</td>\n      <td>128</td>\n      <td>452</td>\n      <td>173</td>\n      <td>1320</td>\n      <td>180</td>\n    </tr>\n    <tr>\n      <th>Toyota Corolla</th>\n      <td>1166</td>\n      <td>55</td>\n      <td>399</td>\n      <td>157</td>\n      <td>815</td>\n      <td>140</td>\n    </tr>\n    <tr>\n      <th>Alfetta 1.66</th>\n      <td>1570</td>\n      <td>109</td>\n      <td>428</td>\n      <td>162</td>\n      <td>1060</td>\n      <td>175</td>\n    </tr>\n    <tr>\n      <th>Princess 1800</th>\n      <td>1798</td>\n      <td>82</td>\n      <td>445</td>\n      <td>172</td>\n      <td>1160</td>\n      <td>158</td>\n    </tr>\n    <tr>\n      <th>Datsun 200L</th>\n      <td>1998</td>\n      <td>115</td>\n      <td>469</td>\n      <td>169</td>\n      <td>1370</td>\n      <td>160</td>\n    </tr>\n    <tr>\n      <th>Taunus 2000</th>\n      <td>1993</td>\n      <td>98</td>\n      <td>438</td>\n      <td>170</td>\n      <td>1080</td>\n      <td>167</td>\n    </tr>\n    <tr>\n      <th>Rancho</th>\n      <td>1442</td>\n      <td>80</td>\n      <td>431</td>\n      <td>166</td>\n      <td>1129</td>\n      <td>144</td>\n    </tr>\n    <tr>\n      <th>Mazda 9295</th>\n      <td>1769</td>\n      <td>83</td>\n      <td>440</td>\n      <td>165</td>\n      <td>1095</td>\n      <td>165</td>\n    </tr>\n    <tr>\n      <th>Opel Rekord</th>\n      <td>1979</td>\n      <td>100</td>\n      <td>459</td>\n      <td>173</td>\n      <td>1120</td>\n      <td>173</td>\n    </tr>\n    <tr>\n      <th>Lada 1300</th>\n      <td>1294</td>\n      <td>68</td>\n      <td>404</td>\n      <td>161</td>\n      <td>955</td>\n      <td>140</td>\n    </tr>\n  </tbody>\n</table>\n</div>",
      "text/plain": "                  CYL  PUISS  LONG  LARG  POIDS  V.MAX\nModele                                                \nAlfasud TI       1350     79   393   161    870    165\nAudi 100         1588     85   468   177   1110    160\nSimca 1300       1294     68   424   168   1050    152\nCitroen GS Club  1222     59   412   161    930    151\nFiat 132         1585     98   439   164   1105    165\nLancia Beta      1297     82   429   169   1080    160\nPeugeot 504      1796     79   449   169   1160    154\nRenault 16 TL    1565     55   424   163   1010    140\nRenault 30       2664    128   452   173   1320    180\nToyota Corolla   1166     55   399   157    815    140\nAlfetta 1.66     1570    109   428   162   1060    175\nPrincess 1800    1798     82   445   172   1160    158\nDatsun 200L      1998    115   469   169   1370    160\nTaunus 2000      1993     98   438   170   1080    167\nRancho           1442     80   431   166   1129    144\nMazda 9295       1769     83   440   165   1095    165\nOpel Rekord      1979    100   459   173   1120    173\nLada 1300        1294     68   404   161    955    140"
     },
     "execution_count": 15,
     "metadata": {},
     "output_type": "execute_result"
    }
   ],
   "source": [
    "X.head(20)"
   ]
  },
  {
   "cell_type": "code",
   "execution_count": null,
   "metadata": {},
   "outputs": [],
   "source": []
  }
 ]
}