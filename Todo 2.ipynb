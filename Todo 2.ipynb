{
 "cells": [
  {
   "cell_type": "code",
   "execution_count": 3,
   "metadata": {},
   "outputs": [],
   "source": [
    "import numpy as np"
   ]
  },
  {
   "cell_type": "code",
   "execution_count": 5,
   "metadata": {},
   "outputs": [],
   "source": [
    "#creating 2 random vectors of size 10\n",
    "x = np.random.normal(size=10)\n",
    "y = np.random.normal(size=10)"
   ]
  },
  {
   "cell_type": "code",
   "execution_count": 6,
   "metadata": {},
   "outputs": [
    {
     "name": "stdout",
     "output_type": "stream",
     "text": "[ 0.29514797 -1.5220449   1.97518255 -1.00542742  0.63515263  0.69011102\n  1.44264002  0.9128737  -0.12318443 -0.77759326]\n[ 0.15263271 -1.29859766 -0.19757109  1.33366403  0.2923502  -0.39225135\n  1.2419558   0.40456255 -1.20057573 -0.43790798]\n"
    }
   ],
   "source": [
    "print(x)\n",
    "print(y)"
   ]
  },
  {
   "cell_type": "code",
   "execution_count": 5,
   "metadata": {},
   "outputs": [],
   "source": [
    "def correlation(x,y):\n",
    "    fracA = sum((x-np.average(x))*(y-np.average(y)))\n",
    "    fracB = np.sqrt(sum(np.power(x-np.average(x),2)))*np.sqrt(sum(np.power(y-np.average(y),2)))\n",
    "    return fracA/fracB"
   ]
  },
  {
   "cell_type": "code",
   "execution_count": 6,
   "metadata": {},
   "outputs": [
    {
     "name": "stdout",
     "output_type": "stream",
     "text": [
      "-0.6210402341453776\n"
     ]
    }
   ],
   "source": [
    "print(correlation(x,y))"
   ]
  },
  {
   "cell_type": "code",
   "execution_count": 7,
   "metadata": {},
   "outputs": [],
   "source": [
    "def minkowski_distance(x,y,p):\n",
    "    return np.sum(np.abs(x-y)**p)**(1/p)"
   ]
  },
  {
   "cell_type": "code",
   "execution_count": 8,
   "metadata": {},
   "outputs": [],
   "source": [
    "def euclidianne_distance(x,y):\n",
    "    return minkowski_distance(x,y,2)"
   ]
  },
  {
   "cell_type": "code",
   "execution_count": 9,
   "metadata": {},
   "outputs": [],
   "source": [
    "def manhathan_distance(x,y):\n",
    "    return minkowski_distance(x,y,1)"
   ]
  },
  {
   "cell_type": "code",
   "execution_count": 10,
   "metadata": {},
   "outputs": [
    {
     "name": "stdout",
     "output_type": "stream",
     "text": [
      "4.9576534526217735\n"
     ]
    }
   ],
   "source": [
    "print(euclidianne_distance(x,y))"
   ]
  },
  {
   "cell_type": "code",
   "execution_count": 11,
   "metadata": {},
   "outputs": [
    {
     "name": "stdout",
     "output_type": "stream",
     "text": [
      "14.551385346271317\n"
     ]
    }
   ],
   "source": [
    "print(manhathan_distance(x,y))"
   ]
  },
  {
   "cell_type": "code",
   "execution_count": 12,
   "metadata": {},
   "outputs": [],
   "source": [
    "from scipy.spatial import distance"
   ]
  },
  {
   "cell_type": "code",
   "execution_count": 13,
   "metadata": {},
   "outputs": [
    {
     "data": {
      "text/plain": [
       "4.9576534526217735"
      ]
     },
     "execution_count": 13,
     "metadata": {},
     "output_type": "execute_result"
    }
   ],
   "source": [
    "distance.euclidean(x,y)"
   ]
  },
  {
   "cell_type": "code",
   "execution_count": 14,
   "metadata": {},
   "outputs": [],
   "source": [
    "def lim_plus_distance(x,y):\n",
    "    return np.max(np.abs(x-y))"
   ]
  },
  {
   "cell_type": "code",
   "execution_count": 15,
   "metadata": {},
   "outputs": [
    {
     "data": {
      "text/plain": [
       "2.7021899459731524"
      ]
     },
     "execution_count": 15,
     "metadata": {},
     "output_type": "execute_result"
    }
   ],
   "source": [
    "lim_plus_distance(x,y)"
   ]
  },
  {
   "cell_type": "code",
   "execution_count": 16,
   "metadata": {},
   "outputs": [],
   "source": [
    "def lim_min_distance(x,y):\n",
    "    return np.min(np.abs(x-y))"
   ]
  },
  {
   "cell_type": "code",
   "execution_count": 17,
   "metadata": {},
   "outputs": [
    {
     "data": {
      "text/plain": [
       "0.6600034409422956"
      ]
     },
     "execution_count": 17,
     "metadata": {},
     "output_type": "execute_result"
    }
   ],
   "source": [
    "lim_min_distance(x,y)"
   ]
  },
  {
   "cell_type": "code",
   "execution_count": 18,
   "metadata": {},
   "outputs": [],
   "source": [
    "def cosine(x,y):\n",
    "    return np.sum(x*y)/(np.sqrt(np.sum(x**2))*np.sqrt(np.sum(y**2)))"
   ]
  },
  {
   "cell_type": "code",
   "execution_count": 19,
   "metadata": {},
   "outputs": [
    {
     "data": {
      "text/plain": [
       "-0.5366059275612077"
      ]
     },
     "execution_count": 19,
     "metadata": {},
     "output_type": "execute_result"
    }
   ],
   "source": [
    "cosine(x,y)"
   ]
  },
  {
   "cell_type": "code",
   "execution_count": null,
   "metadata": {},
   "outputs": [],
   "source": []
  },
  {
   "cell_type": "code",
   "execution_count": 20,
   "metadata": {},
   "outputs": [],
   "source": [
    "from sklearn import datasets\n",
    "import matplotlib.pyplot as plt\n",
    "digits = datasets.load_digits()\n",
    "X = digits.data\n",
    "y = digits.target"
   ]
  },
  {
   "cell_type": "code",
   "execution_count": 21,
   "metadata": {},
   "outputs": [
    {
     "data": {
      "text/plain": [
       "<Figure size 432x288 with 0 Axes>"
      ]
     },
     "metadata": {},
     "output_type": "display_data"
    },
    {
     "data": {
      "image/png": "[encoded data removed]",
      "text/plain": [
       "<Figure size 288x288 with 1 Axes>"
      ]
     },
     "metadata": {
      "needs_background": "light"
     },
     "output_type": "display_data"
    }
   ],
   "source": [
    "import matplotlib.pyplot as plt \n",
    "plt.gray() \n",
    "plt.matshow(digits.images[0])  \n",
    "plt.show() "
   ]
  },
  {
   "cell_type": "code",
   "execution_count": 22,
   "metadata": {},
   "outputs": [
    {
     "data": {
      "text/plain": [
       "23.706539182259394"
      ]
     },
     "execution_count": 22,
     "metadata": {},
     "output_type": "execute_result"
    }
   ],
   "source": [
    "euclidianne_distance(X[0],X[10])"
   ]
  },
  {
   "cell_type": "code",
   "execution_count": 23,
   "metadata": {},
   "outputs": [
    {
     "data": {
      "text/plain": [
       "<Figure size 432x288 with 0 Axes>"
      ]
     },
     "metadata": {},
     "output_type": "display_data"
    },
    {
     "data": {
      "image/png": "[encoded data removed]",
      "text/plain": [
       "<Figure size 288x288 with 1 Axes>"
      ]
     },
     "metadata": {
      "needs_background": "light"
     },
     "output_type": "display_data"
    }
   ],
   "source": [
    "plt.gray() \n",
    "plt.matshow(digits.images[10])  \n",
    "plt.show() "
   ]
  },
  {
   "cell_type": "code",
   "execution_count": 24,
   "metadata": {},
   "outputs": [
    {
     "data": {
      "text/plain": [
       "26.095976701399778"
      ]
     },
     "execution_count": 24,
     "metadata": {},
     "output_type": "execute_result"
    }
   ],
   "source": [
    "euclidianne_distance(X[0],X[20])"
   ]
  },
  {
   "cell_type": "code",
   "execution_count": 25,
   "metadata": {},
   "outputs": [
    {
     "data": {
      "text/plain": [
       "20.784609690826528"
      ]
     },
     "execution_count": 25,
     "metadata": {},
     "output_type": "execute_result"
    }
   ],
   "source": [
    "euclidianne_distance(X[0],X[30])"
   ]
  },
  {
   "cell_type": "code",
   "execution_count": 26,
   "metadata": {},
   "outputs": [
    {
     "data": {
      "text/plain": [
       "45.65084884205331"
      ]
     },
     "execution_count": 26,
     "metadata": {},
     "output_type": "execute_result"
    }
   ],
   "source": [
    "euclidianne_distance(X[0],X[40])"
   ]
  },
  {
   "cell_type": "code",
   "execution_count": 27,
   "metadata": {},
   "outputs": [
    {
     "data": {
      "text/plain": [
       "0.0808946629748214"
      ]
     },
     "execution_count": 27,
     "metadata": {},
     "output_type": "execute_result"
    }
   ],
   "source": [
    "1-cosine(X[0],X[10])"
   ]
  },
  {
   "cell_type": "code",
   "execution_count": 28,
   "metadata": {},
   "outputs": [
    {
     "data": {
      "text/plain": [
       "0.08279190337700038"
      ]
     },
     "execution_count": 28,
     "metadata": {},
     "output_type": "execute_result"
    }
   ],
   "source": [
    "1-cosine(X[0],X[20])"
   ]
  },
  {
   "cell_type": "code",
   "execution_count": 29,
   "metadata": {},
   "outputs": [
    {
     "data": {
      "text/plain": [
       "0.046546559946890165"
      ]
     },
     "execution_count": 29,
     "metadata": {},
     "output_type": "execute_result"
    }
   ],
   "source": [
    "1-cosine(X[0],X[30])"
   ]
  },
  {
   "cell_type": "code",
   "execution_count": 30,
   "metadata": {},
   "outputs": [
    {
     "data": {
      "image/png": "[encoded data removed]",
      "text/plain": [
       "<Figure size 720x720 with 50 Axes>"
      ]
     },
     "metadata": {},
     "output_type": "display_data"
    }
   ],
   "source": [
    "plt.figure(figsize=(10,10))\n",
    "for i in range(50):\n",
    "    plt.subplot(5,10,i+1)\n",
    "    plt.xticks([])\n",
    "    plt.yticks([])\n",
    "    plt.grid(False)\n",
    "    plt.imshow(digits.images[i], cmap=plt.cm.binary)\n",
    "plt.show()"
   ]
  },
  {
   "cell_type": "code",
   "execution_count": 31,
   "metadata": {},
   "outputs": [
    {
     "data": {
      "text/plain": [
       "0.9172725123402233"
      ]
     },
     "execution_count": 31,
     "metadata": {},
     "output_type": "execute_result"
    }
   ],
   "source": [
    "correlation(X[0],X[30])"
   ]
  },
  {
   "cell_type": "code",
   "execution_count": 43,
   "metadata": {},
   "outputs": [
    {
     "name": "stdout",
     "output_type": "stream",
     "text": [
      "(1000, 64)\n"
     ]
    },
    {
     "data": {
      "text/html": [
       "<div>\n",
       "<style scoped>\n",
       "    .dataframe tbody tr th:only-of-type {\n",
       "        vertical-align: middle;\n",
       "    }\n",
       "\n",
       "    .dataframe tbody tr th {\n",
       "        vertical-align: top;\n",
       "    }\n",
       "\n",
       "    .dataframe thead th {\n",
       "        text-align: right;\n",
       "    }\n",
       "</style>\n",
       "<table border=\"1\" class=\"dataframe\">\n",
       "  <thead>\n",
       "    <tr style=\"text-align: right;\">\n",
       "      <th></th>\n",
       "      <th>0</th>\n",
       "      <th>1</th>\n",
       "      <th>2</th>\n",
       "      <th>3</th>\n",
       "      <th>4</th>\n",
       "      <th>5</th>\n",
       "      <th>6</th>\n",
       "      <th>7</th>\n",
       "      <th>8</th>\n",
       "      <th>9</th>\n",
       "      <th>...</th>\n",
       "      <th>0</th>\n",
       "      <th>1</th>\n",
       "      <th>2</th>\n",
       "      <th>3</th>\n",
       "      <th>4</th>\n",
       "      <th>5</th>\n",
       "      <th>6</th>\n",
       "      <th>7</th>\n",
       "      <th>8</th>\n",
       "      <th>9</th>\n",
       "    </tr>\n",
       "  </thead>\n",
       "  <tbody>\n",
       "    <tr>\n",
       "      <th>0</th>\n",
       "      <td>1.000000</td>\n",
       "      <td>0.199519</td>\n",
       "      <td>0.327245</td>\n",
       "      <td>0.367475</td>\n",
       "      <td>0.331435</td>\n",
       "      <td>0.577359</td>\n",
       "      <td>0.438281</td>\n",
       "      <td>0.172338</td>\n",
       "      <td>0.554018</td>\n",
       "      <td>0.622718</td>\n",
       "      <td>...</td>\n",
       "      <td>0.408521</td>\n",
       "      <td>0.182680</td>\n",
       "      <td>0.581826</td>\n",
       "      <td>0.572817</td>\n",
       "      <td>0.135473</td>\n",
       "      <td>0.487951</td>\n",
       "      <td>0.391689</td>\n",
       "      <td>0.558137</td>\n",
       "      <td>0.308228</td>\n",
       "      <td>0.451180</td>\n",
       "    </tr>\n",
       "    <tr>\n",
       "      <th>1</th>\n",
       "      <td>0.199519</td>\n",
       "      <td>1.000000</td>\n",
       "      <td>0.670949</td>\n",
       "      <td>0.559261</td>\n",
       "      <td>0.527952</td>\n",
       "      <td>0.583817</td>\n",
       "      <td>0.683065</td>\n",
       "      <td>0.458166</td>\n",
       "      <td>0.547606</td>\n",
       "      <td>0.464037</td>\n",
       "      <td>...</td>\n",
       "      <td>0.343382</td>\n",
       "      <td>0.627194</td>\n",
       "      <td>0.457570</td>\n",
       "      <td>0.402815</td>\n",
       "      <td>0.676322</td>\n",
       "      <td>0.598786</td>\n",
       "      <td>0.424369</td>\n",
       "      <td>0.589404</td>\n",
       "      <td>0.455022</td>\n",
       "      <td>0.483837</td>\n",
       "    </tr>\n",
       "    <tr>\n",
       "      <th>2</th>\n",
       "      <td>0.327245</td>\n",
       "      <td>0.670949</td>\n",
       "      <td>1.000000</td>\n",
       "      <td>0.360902</td>\n",
       "      <td>0.434437</td>\n",
       "      <td>0.404961</td>\n",
       "      <td>0.585034</td>\n",
       "      <td>0.483891</td>\n",
       "      <td>0.638635</td>\n",
       "      <td>0.406046</td>\n",
       "      <td>...</td>\n",
       "      <td>0.418677</td>\n",
       "      <td>0.448276</td>\n",
       "      <td>0.616560</td>\n",
       "      <td>0.498068</td>\n",
       "      <td>0.511671</td>\n",
       "      <td>0.608924</td>\n",
       "      <td>0.594789</td>\n",
       "      <td>0.583666</td>\n",
       "      <td>0.270689</td>\n",
       "      <td>0.429600</td>\n",
       "    </tr>\n",
       "    <tr>\n",
       "      <th>3</th>\n",
       "      <td>0.367475</td>\n",
       "      <td>0.559261</td>\n",
       "      <td>0.360902</td>\n",
       "      <td>1.000000</td>\n",
       "      <td>0.323492</td>\n",
       "      <td>0.778152</td>\n",
       "      <td>0.486779</td>\n",
       "      <td>0.175534</td>\n",
       "      <td>0.618459</td>\n",
       "      <td>0.552298</td>\n",
       "      <td>...</td>\n",
       "      <td>0.722970</td>\n",
       "      <td>0.601399</td>\n",
       "      <td>0.667179</td>\n",
       "      <td>0.603101</td>\n",
       "      <td>0.661031</td>\n",
       "      <td>0.322748</td>\n",
       "      <td>0.345781</td>\n",
       "      <td>0.631078</td>\n",
       "      <td>0.432729</td>\n",
       "      <td>0.771895</td>\n",
       "    </tr>\n",
       "    <tr>\n",
       "      <th>4</th>\n",
       "      <td>0.331435</td>\n",
       "      <td>0.527952</td>\n",
       "      <td>0.434437</td>\n",
       "      <td>0.323492</td>\n",
       "      <td>1.000000</td>\n",
       "      <td>0.397751</td>\n",
       "      <td>0.704592</td>\n",
       "      <td>0.140954</td>\n",
       "      <td>0.424631</td>\n",
       "      <td>0.353398</td>\n",
       "      <td>...</td>\n",
       "      <td>0.135663</td>\n",
       "      <td>0.299004</td>\n",
       "      <td>0.353075</td>\n",
       "      <td>0.229937</td>\n",
       "      <td>0.355441</td>\n",
       "      <td>0.395284</td>\n",
       "      <td>0.416039</td>\n",
       "      <td>0.378902</td>\n",
       "      <td>0.649483</td>\n",
       "      <td>0.277284</td>\n",
       "    </tr>\n",
       "    <tr>\n",
       "      <th>5</th>\n",
       "      <td>0.577359</td>\n",
       "      <td>0.583817</td>\n",
       "      <td>0.404961</td>\n",
       "      <td>0.778152</td>\n",
       "      <td>0.397751</td>\n",
       "      <td>1.000000</td>\n",
       "      <td>0.491466</td>\n",
       "      <td>0.179151</td>\n",
       "      <td>0.673076</td>\n",
       "      <td>0.812715</td>\n",
       "      <td>...</td>\n",
       "      <td>0.607441</td>\n",
       "      <td>0.614675</td>\n",
       "      <td>0.634420</td>\n",
       "      <td>0.669615</td>\n",
       "      <td>0.624598</td>\n",
       "      <td>0.445297</td>\n",
       "      <td>0.330954</td>\n",
       "      <td>0.685343</td>\n",
       "      <td>0.444102</td>\n",
       "      <td>0.662214</td>\n",
       "    </tr>\n",
       "    <tr>\n",
       "      <th>6</th>\n",
       "      <td>0.438281</td>\n",
       "      <td>0.683065</td>\n",
       "      <td>0.585034</td>\n",
       "      <td>0.486779</td>\n",
       "      <td>0.704592</td>\n",
       "      <td>0.491466</td>\n",
       "      <td>1.000000</td>\n",
       "      <td>0.200269</td>\n",
       "      <td>0.611179</td>\n",
       "      <td>0.448222</td>\n",
       "      <td>...</td>\n",
       "      <td>0.265595</td>\n",
       "      <td>0.613678</td>\n",
       "      <td>0.394406</td>\n",
       "      <td>0.413544</td>\n",
       "      <td>0.587264</td>\n",
       "      <td>0.487572</td>\n",
       "      <td>0.648800</td>\n",
       "      <td>0.617235</td>\n",
       "      <td>0.438008</td>\n",
       "      <td>0.386192</td>\n",
       "    </tr>\n",
       "    <tr>\n",
       "      <th>7</th>\n",
       "      <td>0.172338</td>\n",
       "      <td>0.458166</td>\n",
       "      <td>0.483891</td>\n",
       "      <td>0.175534</td>\n",
       "      <td>0.140954</td>\n",
       "      <td>0.179151</td>\n",
       "      <td>0.200269</td>\n",
       "      <td>1.000000</td>\n",
       "      <td>0.391925</td>\n",
       "      <td>0.321053</td>\n",
       "      <td>...</td>\n",
       "      <td>0.267997</td>\n",
       "      <td>0.118880</td>\n",
       "      <td>0.307469</td>\n",
       "      <td>0.339112</td>\n",
       "      <td>0.125565</td>\n",
       "      <td>0.655791</td>\n",
       "      <td>0.296453</td>\n",
       "      <td>0.461723</td>\n",
       "      <td>0.199461</td>\n",
       "      <td>0.349870</td>\n",
       "    </tr>\n",
       "    <tr>\n",
       "      <th>8</th>\n",
       "      <td>0.554018</td>\n",
       "      <td>0.547606</td>\n",
       "      <td>0.638635</td>\n",
       "      <td>0.618459</td>\n",
       "      <td>0.424631</td>\n",
       "      <td>0.673076</td>\n",
       "      <td>0.611179</td>\n",
       "      <td>0.391925</td>\n",
       "      <td>1.000000</td>\n",
       "      <td>0.633985</td>\n",
       "      <td>...</td>\n",
       "      <td>0.635058</td>\n",
       "      <td>0.564807</td>\n",
       "      <td>0.623477</td>\n",
       "      <td>0.680434</td>\n",
       "      <td>0.538505</td>\n",
       "      <td>0.574952</td>\n",
       "      <td>0.470657</td>\n",
       "      <td>0.735370</td>\n",
       "      <td>0.358253</td>\n",
       "      <td>0.692860</td>\n",
       "    </tr>\n",
       "    <tr>\n",
       "      <th>9</th>\n",
       "      <td>0.622718</td>\n",
       "      <td>0.464037</td>\n",
       "      <td>0.406046</td>\n",
       "      <td>0.552298</td>\n",
       "      <td>0.353398</td>\n",
       "      <td>0.812715</td>\n",
       "      <td>0.448222</td>\n",
       "      <td>0.321053</td>\n",
       "      <td>0.633985</td>\n",
       "      <td>1.000000</td>\n",
       "      <td>...</td>\n",
       "      <td>0.420764</td>\n",
       "      <td>0.385464</td>\n",
       "      <td>0.471929</td>\n",
       "      <td>0.615478</td>\n",
       "      <td>0.374431</td>\n",
       "      <td>0.498599</td>\n",
       "      <td>0.457839</td>\n",
       "      <td>0.611542</td>\n",
       "      <td>0.426408</td>\n",
       "      <td>0.522636</td>\n",
       "    </tr>\n",
       "    <tr>\n",
       "      <th>0</th>\n",
       "      <td>0.854627</td>\n",
       "      <td>0.365637</td>\n",
       "      <td>0.522875</td>\n",
       "      <td>0.302245</td>\n",
       "      <td>0.533470</td>\n",
       "      <td>0.471365</td>\n",
       "      <td>0.647917</td>\n",
       "      <td>0.304003</td>\n",
       "      <td>0.514064</td>\n",
       "      <td>0.533309</td>\n",
       "      <td>...</td>\n",
       "      <td>0.301968</td>\n",
       "      <td>0.198797</td>\n",
       "      <td>0.532146</td>\n",
       "      <td>0.525761</td>\n",
       "      <td>0.167861</td>\n",
       "      <td>0.560318</td>\n",
       "      <td>0.596096</td>\n",
       "      <td>0.635449</td>\n",
       "      <td>0.446815</td>\n",
       "      <td>0.343326</td>\n",
       "    </tr>\n",
       "    <tr>\n",
       "      <th>1</th>\n",
       "      <td>0.191798</td>\n",
       "      <td>0.773147</td>\n",
       "      <td>0.661580</td>\n",
       "      <td>0.503684</td>\n",
       "      <td>0.606426</td>\n",
       "      <td>0.586173</td>\n",
       "      <td>0.511764</td>\n",
       "      <td>0.435574</td>\n",
       "      <td>0.536870</td>\n",
       "      <td>0.509040</td>\n",
       "      <td>...</td>\n",
       "      <td>0.384770</td>\n",
       "      <td>0.453835</td>\n",
       "      <td>0.500783</td>\n",
       "      <td>0.435434</td>\n",
       "      <td>0.556794</td>\n",
       "      <td>0.517447</td>\n",
       "      <td>0.349638</td>\n",
       "      <td>0.549942</td>\n",
       "      <td>0.629524</td>\n",
       "      <td>0.490565</td>\n",
       "    </tr>\n",
       "    <tr>\n",
       "      <th>2</th>\n",
       "      <td>0.302503</td>\n",
       "      <td>0.581020</td>\n",
       "      <td>0.494758</td>\n",
       "      <td>0.477724</td>\n",
       "      <td>0.107970</td>\n",
       "      <td>0.512724</td>\n",
       "      <td>0.532015</td>\n",
       "      <td>0.234995</td>\n",
       "      <td>0.425737</td>\n",
       "      <td>0.418583</td>\n",
       "      <td>...</td>\n",
       "      <td>0.376390</td>\n",
       "      <td>0.771853</td>\n",
       "      <td>0.343276</td>\n",
       "      <td>0.444124</td>\n",
       "      <td>0.704082</td>\n",
       "      <td>0.396773</td>\n",
       "      <td>0.429053</td>\n",
       "      <td>0.443758</td>\n",
       "      <td>0.086424</td>\n",
       "      <td>0.373034</td>\n",
       "    </tr>\n",
       "    <tr>\n",
       "      <th>3</th>\n",
       "      <td>0.454000</td>\n",
       "      <td>0.546491</td>\n",
       "      <td>0.478799</td>\n",
       "      <td>0.800538</td>\n",
       "      <td>0.240122</td>\n",
       "      <td>0.749432</td>\n",
       "      <td>0.352538</td>\n",
       "      <td>0.413256</td>\n",
       "      <td>0.636163</td>\n",
       "      <td>0.563100</td>\n",
       "      <td>...</td>\n",
       "      <td>0.760525</td>\n",
       "      <td>0.513814</td>\n",
       "      <td>0.720444</td>\n",
       "      <td>0.610106</td>\n",
       "      <td>0.583697</td>\n",
       "      <td>0.537869</td>\n",
       "      <td>0.228255</td>\n",
       "      <td>0.684262</td>\n",
       "      <td>0.355853</td>\n",
       "      <td>0.802572</td>\n",
       "    </tr>\n",
       "    <tr>\n",
       "      <th>4</th>\n",
       "      <td>0.512496</td>\n",
       "      <td>0.614435</td>\n",
       "      <td>0.501896</td>\n",
       "      <td>0.315488</td>\n",
       "      <td>0.800703</td>\n",
       "      <td>0.460000</td>\n",
       "      <td>0.672664</td>\n",
       "      <td>0.297638</td>\n",
       "      <td>0.556285</td>\n",
       "      <td>0.570544</td>\n",
       "      <td>...</td>\n",
       "      <td>0.152977</td>\n",
       "      <td>0.341290</td>\n",
       "      <td>0.337933</td>\n",
       "      <td>0.345585</td>\n",
       "      <td>0.362383</td>\n",
       "      <td>0.592257</td>\n",
       "      <td>0.497210</td>\n",
       "      <td>0.532766</td>\n",
       "      <td>0.701363</td>\n",
       "      <td>0.314574</td>\n",
       "    </tr>\n",
       "    <tr>\n",
       "      <th>5</th>\n",
       "      <td>0.300261</td>\n",
       "      <td>0.588371</td>\n",
       "      <td>0.344258</td>\n",
       "      <td>0.467576</td>\n",
       "      <td>0.151554</td>\n",
       "      <td>0.426688</td>\n",
       "      <td>0.476426</td>\n",
       "      <td>0.482030</td>\n",
       "      <td>0.423368</td>\n",
       "      <td>0.379534</td>\n",
       "      <td>...</td>\n",
       "      <td>0.217140</td>\n",
       "      <td>0.518123</td>\n",
       "      <td>0.207376</td>\n",
       "      <td>0.301115</td>\n",
       "      <td>0.391635</td>\n",
       "      <td>0.519124</td>\n",
       "      <td>0.324483</td>\n",
       "      <td>0.552429</td>\n",
       "      <td>0.170775</td>\n",
       "      <td>0.324092</td>\n",
       "    </tr>\n",
       "    <tr>\n",
       "      <th>6</th>\n",
       "      <td>0.155773</td>\n",
       "      <td>0.673534</td>\n",
       "      <td>0.599554</td>\n",
       "      <td>0.545866</td>\n",
       "      <td>0.629516</td>\n",
       "      <td>0.422275</td>\n",
       "      <td>0.767594</td>\n",
       "      <td>0.194497</td>\n",
       "      <td>0.509612</td>\n",
       "      <td>0.327735</td>\n",
       "      <td>...</td>\n",
       "      <td>0.419246</td>\n",
       "      <td>0.555476</td>\n",
       "      <td>0.448118</td>\n",
       "      <td>0.422089</td>\n",
       "      <td>0.602052</td>\n",
       "      <td>0.432390</td>\n",
       "      <td>0.704627</td>\n",
       "      <td>0.500992</td>\n",
       "      <td>0.451837</td>\n",
       "      <td>0.419237</td>\n",
       "    </tr>\n",
       "    <tr>\n",
       "      <th>7</th>\n",
       "      <td>0.456933</td>\n",
       "      <td>0.628198</td>\n",
       "      <td>0.616081</td>\n",
       "      <td>0.388811</td>\n",
       "      <td>0.514071</td>\n",
       "      <td>0.499606</td>\n",
       "      <td>0.472923</td>\n",
       "      <td>0.557451</td>\n",
       "      <td>0.527774</td>\n",
       "      <td>0.608915</td>\n",
       "      <td>...</td>\n",
       "      <td>0.377106</td>\n",
       "      <td>0.285905</td>\n",
       "      <td>0.529700</td>\n",
       "      <td>0.471670</td>\n",
       "      <td>0.335519</td>\n",
       "      <td>0.775351</td>\n",
       "      <td>0.513403</td>\n",
       "      <td>0.611748</td>\n",
       "      <td>0.408519</td>\n",
       "      <td>0.487304</td>\n",
       "    </tr>\n",
       "    <tr>\n",
       "      <th>8</th>\n",
       "      <td>0.413203</td>\n",
       "      <td>0.580013</td>\n",
       "      <td>0.583775</td>\n",
       "      <td>0.466370</td>\n",
       "      <td>0.382167</td>\n",
       "      <td>0.523805</td>\n",
       "      <td>0.443351</td>\n",
       "      <td>0.487929</td>\n",
       "      <td>0.650324</td>\n",
       "      <td>0.469892</td>\n",
       "      <td>...</td>\n",
       "      <td>0.437631</td>\n",
       "      <td>0.418958</td>\n",
       "      <td>0.477479</td>\n",
       "      <td>0.383018</td>\n",
       "      <td>0.373963</td>\n",
       "      <td>0.568872</td>\n",
       "      <td>0.279244</td>\n",
       "      <td>0.440898</td>\n",
       "      <td>0.215317</td>\n",
       "      <td>0.465788</td>\n",
       "    </tr>\n",
       "    <tr>\n",
       "      <th>9</th>\n",
       "      <td>0.327573</td>\n",
       "      <td>0.420093</td>\n",
       "      <td>0.330816</td>\n",
       "      <td>0.751612</td>\n",
       "      <td>0.258376</td>\n",
       "      <td>0.759140</td>\n",
       "      <td>0.423720</td>\n",
       "      <td>0.061179</td>\n",
       "      <td>0.509615</td>\n",
       "      <td>0.588068</td>\n",
       "      <td>...</td>\n",
       "      <td>0.640029</td>\n",
       "      <td>0.625839</td>\n",
       "      <td>0.581426</td>\n",
       "      <td>0.650401</td>\n",
       "      <td>0.660934</td>\n",
       "      <td>0.242080</td>\n",
       "      <td>0.403052</td>\n",
       "      <td>0.517313</td>\n",
       "      <td>0.267951</td>\n",
       "      <td>0.530000</td>\n",
       "    </tr>\n",
       "    <tr>\n",
       "      <th>0</th>\n",
       "      <td>0.854554</td>\n",
       "      <td>0.389489</td>\n",
       "      <td>0.539214</td>\n",
       "      <td>0.374304</td>\n",
       "      <td>0.501796</td>\n",
       "      <td>0.579991</td>\n",
       "      <td>0.619282</td>\n",
       "      <td>0.296717</td>\n",
       "      <td>0.565105</td>\n",
       "      <td>0.690269</td>\n",
       "      <td>...</td>\n",
       "      <td>0.363315</td>\n",
       "      <td>0.207674</td>\n",
       "      <td>0.604777</td>\n",
       "      <td>0.581796</td>\n",
       "      <td>0.201565</td>\n",
       "      <td>0.625799</td>\n",
       "      <td>0.558358</td>\n",
       "      <td>0.668210</td>\n",
       "      <td>0.336267</td>\n",
       "      <td>0.410633</td>\n",
       "    </tr>\n",
       "    <tr>\n",
       "      <th>1</th>\n",
       "      <td>0.218848</td>\n",
       "      <td>0.801442</td>\n",
       "      <td>0.647033</td>\n",
       "      <td>0.520191</td>\n",
       "      <td>0.543033</td>\n",
       "      <td>0.602179</td>\n",
       "      <td>0.490357</td>\n",
       "      <td>0.444918</td>\n",
       "      <td>0.498401</td>\n",
       "      <td>0.496065</td>\n",
       "      <td>...</td>\n",
       "      <td>0.417838</td>\n",
       "      <td>0.463444</td>\n",
       "      <td>0.515913</td>\n",
       "      <td>0.497077</td>\n",
       "      <td>0.551407</td>\n",
       "      <td>0.551978</td>\n",
       "      <td>0.372208</td>\n",
       "      <td>0.615303</td>\n",
       "      <td>0.562180</td>\n",
       "      <td>0.486361</td>\n",
       "    </tr>\n",
       "    <tr>\n",
       "      <th>2</th>\n",
       "      <td>0.318946</td>\n",
       "      <td>0.618893</td>\n",
       "      <td>0.615857</td>\n",
       "      <td>0.564526</td>\n",
       "      <td>0.143746</td>\n",
       "      <td>0.515450</td>\n",
       "      <td>0.518904</td>\n",
       "      <td>0.389074</td>\n",
       "      <td>0.581242</td>\n",
       "      <td>0.461804</td>\n",
       "      <td>...</td>\n",
       "      <td>0.487622</td>\n",
       "      <td>0.646506</td>\n",
       "      <td>0.466476</td>\n",
       "      <td>0.503783</td>\n",
       "      <td>0.616314</td>\n",
       "      <td>0.446459</td>\n",
       "      <td>0.459257</td>\n",
       "      <td>0.508173</td>\n",
       "      <td>0.086486</td>\n",
       "      <td>0.561981</td>\n",
       "    </tr>\n",
       "    <tr>\n",
       "      <th>3</th>\n",
       "      <td>0.520931</td>\n",
       "      <td>0.426435</td>\n",
       "      <td>0.438618</td>\n",
       "      <td>0.540230</td>\n",
       "      <td>0.169652</td>\n",
       "      <td>0.536797</td>\n",
       "      <td>0.255906</td>\n",
       "      <td>0.541039</td>\n",
       "      <td>0.595676</td>\n",
       "      <td>0.457272</td>\n",
       "      <td>...</td>\n",
       "      <td>0.539063</td>\n",
       "      <td>0.402301</td>\n",
       "      <td>0.609980</td>\n",
       "      <td>0.481653</td>\n",
       "      <td>0.433565</td>\n",
       "      <td>0.641478</td>\n",
       "      <td>0.145334</td>\n",
       "      <td>0.622349</td>\n",
       "      <td>0.305889</td>\n",
       "      <td>0.646575</td>\n",
       "    </tr>\n",
       "    <tr>\n",
       "      <th>4</th>\n",
       "      <td>0.323289</td>\n",
       "      <td>0.557015</td>\n",
       "      <td>0.470470</td>\n",
       "      <td>0.407344</td>\n",
       "      <td>0.829610</td>\n",
       "      <td>0.480587</td>\n",
       "      <td>0.644056</td>\n",
       "      <td>0.257387</td>\n",
       "      <td>0.507924</td>\n",
       "      <td>0.547067</td>\n",
       "      <td>...</td>\n",
       "      <td>0.172014</td>\n",
       "      <td>0.317447</td>\n",
       "      <td>0.337883</td>\n",
       "      <td>0.338449</td>\n",
       "      <td>0.382567</td>\n",
       "      <td>0.437002</td>\n",
       "      <td>0.442465</td>\n",
       "      <td>0.502061</td>\n",
       "      <td>0.744107</td>\n",
       "      <td>0.346884</td>\n",
       "    </tr>\n",
       "    <tr>\n",
       "      <th>5</th>\n",
       "      <td>0.507848</td>\n",
       "      <td>0.517636</td>\n",
       "      <td>0.349355</td>\n",
       "      <td>0.329910</td>\n",
       "      <td>0.305862</td>\n",
       "      <td>0.450651</td>\n",
       "      <td>0.575542</td>\n",
       "      <td>0.371992</td>\n",
       "      <td>0.489643</td>\n",
       "      <td>0.583593</td>\n",
       "      <td>...</td>\n",
       "      <td>0.124782</td>\n",
       "      <td>0.471223</td>\n",
       "      <td>0.176575</td>\n",
       "      <td>0.303038</td>\n",
       "      <td>0.311989</td>\n",
       "      <td>0.470910</td>\n",
       "      <td>0.438022</td>\n",
       "      <td>0.458569</td>\n",
       "      <td>0.236807</td>\n",
       "      <td>0.308952</td>\n",
       "    </tr>\n",
       "    <tr>\n",
       "      <th>6</th>\n",
       "      <td>0.493782</td>\n",
       "      <td>0.645013</td>\n",
       "      <td>0.615409</td>\n",
       "      <td>0.472865</td>\n",
       "      <td>0.645368</td>\n",
       "      <td>0.477970</td>\n",
       "      <td>0.965510</td>\n",
       "      <td>0.177794</td>\n",
       "      <td>0.621821</td>\n",
       "      <td>0.440138</td>\n",
       "      <td>...</td>\n",
       "      <td>0.296725</td>\n",
       "      <td>0.609426</td>\n",
       "      <td>0.419853</td>\n",
       "      <td>0.436794</td>\n",
       "      <td>0.560668</td>\n",
       "      <td>0.460042</td>\n",
       "      <td>0.675705</td>\n",
       "      <td>0.573885</td>\n",
       "      <td>0.368250</td>\n",
       "      <td>0.378169</td>\n",
       "    </tr>\n",
       "    <tr>\n",
       "      <th>7</th>\n",
       "      <td>0.436884</td>\n",
       "      <td>0.538227</td>\n",
       "      <td>0.443394</td>\n",
       "      <td>0.312143</td>\n",
       "      <td>0.523188</td>\n",
       "      <td>0.416595</td>\n",
       "      <td>0.352916</td>\n",
       "      <td>0.548833</td>\n",
       "      <td>0.467396</td>\n",
       "      <td>0.473664</td>\n",
       "      <td>...</td>\n",
       "      <td>0.335399</td>\n",
       "      <td>0.244139</td>\n",
       "      <td>0.499231</td>\n",
       "      <td>0.427266</td>\n",
       "      <td>0.344810</td>\n",
       "      <td>0.618605</td>\n",
       "      <td>0.359834</td>\n",
       "      <td>0.529059</td>\n",
       "      <td>0.686999</td>\n",
       "      <td>0.506884</td>\n",
       "    </tr>\n",
       "    <tr>\n",
       "      <th>8</th>\n",
       "      <td>0.558258</td>\n",
       "      <td>0.557682</td>\n",
       "      <td>0.665455</td>\n",
       "      <td>0.482178</td>\n",
       "      <td>0.414106</td>\n",
       "      <td>0.624199</td>\n",
       "      <td>0.548297</td>\n",
       "      <td>0.458123</td>\n",
       "      <td>0.877250</td>\n",
       "      <td>0.637688</td>\n",
       "      <td>...</td>\n",
       "      <td>0.439946</td>\n",
       "      <td>0.539355</td>\n",
       "      <td>0.538695</td>\n",
       "      <td>0.499186</td>\n",
       "      <td>0.525266</td>\n",
       "      <td>0.640943</td>\n",
       "      <td>0.367016</td>\n",
       "      <td>0.587430</td>\n",
       "      <td>0.348662</td>\n",
       "      <td>0.560577</td>\n",
       "    </tr>\n",
       "    <tr>\n",
       "      <th>9</th>\n",
       "      <td>0.427872</td>\n",
       "      <td>0.490968</td>\n",
       "      <td>0.426856</td>\n",
       "      <td>0.784116</td>\n",
       "      <td>0.345010</td>\n",
       "      <td>0.849666</td>\n",
       "      <td>0.471912</td>\n",
       "      <td>0.135656</td>\n",
       "      <td>0.558943</td>\n",
       "      <td>0.680361</td>\n",
       "      <td>...</td>\n",
       "      <td>0.633346</td>\n",
       "      <td>0.636018</td>\n",
       "      <td>0.633808</td>\n",
       "      <td>0.704492</td>\n",
       "      <td>0.678621</td>\n",
       "      <td>0.333854</td>\n",
       "      <td>0.401273</td>\n",
       "      <td>0.587372</td>\n",
       "      <td>0.369779</td>\n",
       "      <td>0.585320</td>\n",
       "    </tr>\n",
       "    <tr>\n",
       "      <th>...</th>\n",
       "      <td>...</td>\n",
       "      <td>...</td>\n",
       "      <td>...</td>\n",
       "      <td>...</td>\n",
       "      <td>...</td>\n",
       "      <td>...</td>\n",
       "      <td>...</td>\n",
       "      <td>...</td>\n",
       "      <td>...</td>\n",
       "      <td>...</td>\n",
       "      <td>...</td>\n",
       "      <td>...</td>\n",
       "      <td>...</td>\n",
       "      <td>...</td>\n",
       "      <td>...</td>\n",
       "      <td>...</td>\n",
       "      <td>...</td>\n",
       "      <td>...</td>\n",
       "      <td>...</td>\n",
       "      <td>...</td>\n",
       "      <td>...</td>\n",
       "    </tr>\n",
       "    <tr>\n",
       "      <th>0</th>\n",
       "      <td>0.371348</td>\n",
       "      <td>0.573377</td>\n",
       "      <td>0.437375</td>\n",
       "      <td>0.372253</td>\n",
       "      <td>0.794015</td>\n",
       "      <td>0.438469</td>\n",
       "      <td>0.552551</td>\n",
       "      <td>0.302141</td>\n",
       "      <td>0.496025</td>\n",
       "      <td>0.466023</td>\n",
       "      <td>...</td>\n",
       "      <td>0.161790</td>\n",
       "      <td>0.317821</td>\n",
       "      <td>0.351937</td>\n",
       "      <td>0.293221</td>\n",
       "      <td>0.400231</td>\n",
       "      <td>0.450122</td>\n",
       "      <td>0.391723</td>\n",
       "      <td>0.440207</td>\n",
       "      <td>0.887277</td>\n",
       "      <td>0.362640</td>\n",
       "    </tr>\n",
       "    <tr>\n",
       "      <th>1</th>\n",
       "      <td>0.459921</td>\n",
       "      <td>0.356504</td>\n",
       "      <td>0.441699</td>\n",
       "      <td>0.560398</td>\n",
       "      <td>0.102195</td>\n",
       "      <td>0.613340</td>\n",
       "      <td>0.307117</td>\n",
       "      <td>0.289779</td>\n",
       "      <td>0.544561</td>\n",
       "      <td>0.515510</td>\n",
       "      <td>...</td>\n",
       "      <td>0.779900</td>\n",
       "      <td>0.409996</td>\n",
       "      <td>0.631441</td>\n",
       "      <td>0.899764</td>\n",
       "      <td>0.387182</td>\n",
       "      <td>0.333934</td>\n",
       "      <td>0.434131</td>\n",
       "      <td>0.638832</td>\n",
       "      <td>0.179902</td>\n",
       "      <td>0.566277</td>\n",
       "    </tr>\n",
       "    <tr>\n",
       "      <th>2</th>\n",
       "      <td>0.151946</td>\n",
       "      <td>0.637581</td>\n",
       "      <td>0.453155</td>\n",
       "      <td>0.659958</td>\n",
       "      <td>0.358628</td>\n",
       "      <td>0.644683</td>\n",
       "      <td>0.555051</td>\n",
       "      <td>0.118660</td>\n",
       "      <td>0.540661</td>\n",
       "      <td>0.424080</td>\n",
       "      <td>...</td>\n",
       "      <td>0.461329</td>\n",
       "      <td>0.909253</td>\n",
       "      <td>0.477949</td>\n",
       "      <td>0.413606</td>\n",
       "      <td>0.947012</td>\n",
       "      <td>0.279339</td>\n",
       "      <td>0.324128</td>\n",
       "      <td>0.477820</td>\n",
       "      <td>0.404571</td>\n",
       "      <td>0.559612</td>\n",
       "    </tr>\n",
       "    <tr>\n",
       "      <th>3</th>\n",
       "      <td>0.558579</td>\n",
       "      <td>0.405315</td>\n",
       "      <td>0.298312</td>\n",
       "      <td>0.702558</td>\n",
       "      <td>0.238635</td>\n",
       "      <td>0.734046</td>\n",
       "      <td>0.431673</td>\n",
       "      <td>0.236274</td>\n",
       "      <td>0.535444</td>\n",
       "      <td>0.628283</td>\n",
       "      <td>...</td>\n",
       "      <td>0.557861</td>\n",
       "      <td>0.473432</td>\n",
       "      <td>0.537780</td>\n",
       "      <td>0.646533</td>\n",
       "      <td>0.419012</td>\n",
       "      <td>0.374224</td>\n",
       "      <td>0.430331</td>\n",
       "      <td>0.742691</td>\n",
       "      <td>0.320119</td>\n",
       "      <td>0.611836</td>\n",
       "    </tr>\n",
       "    <tr>\n",
       "      <th>4</th>\n",
       "      <td>0.857604</td>\n",
       "      <td>0.139597</td>\n",
       "      <td>0.244785</td>\n",
       "      <td>0.490192</td>\n",
       "      <td>0.199535</td>\n",
       "      <td>0.521140</td>\n",
       "      <td>0.351161</td>\n",
       "      <td>0.082002</td>\n",
       "      <td>0.546498</td>\n",
       "      <td>0.529570</td>\n",
       "      <td>...</td>\n",
       "      <td>0.587389</td>\n",
       "      <td>0.184451</td>\n",
       "      <td>0.605913</td>\n",
       "      <td>0.648206</td>\n",
       "      <td>0.125129</td>\n",
       "      <td>0.290510</td>\n",
       "      <td>0.411087</td>\n",
       "      <td>0.560842</td>\n",
       "      <td>0.188566</td>\n",
       "      <td>0.547724</td>\n",
       "    </tr>\n",
       "    <tr>\n",
       "      <th>5</th>\n",
       "      <td>0.403165</td>\n",
       "      <td>0.332599</td>\n",
       "      <td>0.323085</td>\n",
       "      <td>0.631990</td>\n",
       "      <td>0.103607</td>\n",
       "      <td>0.647108</td>\n",
       "      <td>0.271659</td>\n",
       "      <td>0.264974</td>\n",
       "      <td>0.610530</td>\n",
       "      <td>0.550366</td>\n",
       "      <td>...</td>\n",
       "      <td>0.835000</td>\n",
       "      <td>0.449866</td>\n",
       "      <td>0.589470</td>\n",
       "      <td>0.890042</td>\n",
       "      <td>0.406212</td>\n",
       "      <td>0.298745</td>\n",
       "      <td>0.418532</td>\n",
       "      <td>0.631878</td>\n",
       "      <td>0.209546</td>\n",
       "      <td>0.668361</td>\n",
       "    </tr>\n",
       "    <tr>\n",
       "      <th>6</th>\n",
       "      <td>0.585083</td>\n",
       "      <td>0.365071</td>\n",
       "      <td>0.231516</td>\n",
       "      <td>0.715270</td>\n",
       "      <td>0.191711</td>\n",
       "      <td>0.770740</td>\n",
       "      <td>0.370372</td>\n",
       "      <td>0.232462</td>\n",
       "      <td>0.513801</td>\n",
       "      <td>0.686033</td>\n",
       "      <td>...</td>\n",
       "      <td>0.620788</td>\n",
       "      <td>0.428084</td>\n",
       "      <td>0.576632</td>\n",
       "      <td>0.722285</td>\n",
       "      <td>0.379612</td>\n",
       "      <td>0.305259</td>\n",
       "      <td>0.453332</td>\n",
       "      <td>0.668880</td>\n",
       "      <td>0.306214</td>\n",
       "      <td>0.601428</td>\n",
       "    </tr>\n",
       "    <tr>\n",
       "      <th>7</th>\n",
       "      <td>0.393291</td>\n",
       "      <td>0.510599</td>\n",
       "      <td>0.529493</td>\n",
       "      <td>0.623561</td>\n",
       "      <td>0.177888</td>\n",
       "      <td>0.561986</td>\n",
       "      <td>0.438344</td>\n",
       "      <td>0.306217</td>\n",
       "      <td>0.567731</td>\n",
       "      <td>0.460640</td>\n",
       "      <td>...</td>\n",
       "      <td>0.606435</td>\n",
       "      <td>0.657824</td>\n",
       "      <td>0.533595</td>\n",
       "      <td>0.585513</td>\n",
       "      <td>0.609307</td>\n",
       "      <td>0.476556</td>\n",
       "      <td>0.353583</td>\n",
       "      <td>0.527197</td>\n",
       "      <td>0.063151</td>\n",
       "      <td>0.613331</td>\n",
       "    </tr>\n",
       "    <tr>\n",
       "      <th>8</th>\n",
       "      <td>0.602759</td>\n",
       "      <td>0.505699</td>\n",
       "      <td>0.619457</td>\n",
       "      <td>0.604976</td>\n",
       "      <td>0.352518</td>\n",
       "      <td>0.615625</td>\n",
       "      <td>0.543159</td>\n",
       "      <td>0.507007</td>\n",
       "      <td>0.832213</td>\n",
       "      <td>0.600362</td>\n",
       "      <td>...</td>\n",
       "      <td>0.699325</td>\n",
       "      <td>0.396100</td>\n",
       "      <td>0.695604</td>\n",
       "      <td>0.804203</td>\n",
       "      <td>0.396537</td>\n",
       "      <td>0.613672</td>\n",
       "      <td>0.606872</td>\n",
       "      <td>0.857653</td>\n",
       "      <td>0.405877</td>\n",
       "      <td>0.741859</td>\n",
       "    </tr>\n",
       "    <tr>\n",
       "      <th>9</th>\n",
       "      <td>0.280100</td>\n",
       "      <td>0.603496</td>\n",
       "      <td>0.601089</td>\n",
       "      <td>0.601537</td>\n",
       "      <td>0.166179</td>\n",
       "      <td>0.576040</td>\n",
       "      <td>0.476082</td>\n",
       "      <td>0.313990</td>\n",
       "      <td>0.564571</td>\n",
       "      <td>0.482764</td>\n",
       "      <td>...</td>\n",
       "      <td>0.516670</td>\n",
       "      <td>0.776427</td>\n",
       "      <td>0.445670</td>\n",
       "      <td>0.527599</td>\n",
       "      <td>0.713469</td>\n",
       "      <td>0.474983</td>\n",
       "      <td>0.354332</td>\n",
       "      <td>0.501200</td>\n",
       "      <td>0.106597</td>\n",
       "      <td>0.516409</td>\n",
       "    </tr>\n",
       "    <tr>\n",
       "      <th>0</th>\n",
       "      <td>0.833781</td>\n",
       "      <td>0.162011</td>\n",
       "      <td>0.257946</td>\n",
       "      <td>0.458238</td>\n",
       "      <td>0.236952</td>\n",
       "      <td>0.522815</td>\n",
       "      <td>0.387023</td>\n",
       "      <td>0.121934</td>\n",
       "      <td>0.524629</td>\n",
       "      <td>0.463588</td>\n",
       "      <td>...</td>\n",
       "      <td>0.464866</td>\n",
       "      <td>0.248644</td>\n",
       "      <td>0.539091</td>\n",
       "      <td>0.535595</td>\n",
       "      <td>0.178018</td>\n",
       "      <td>0.322405</td>\n",
       "      <td>0.409195</td>\n",
       "      <td>0.602601</td>\n",
       "      <td>0.288251</td>\n",
       "      <td>0.522368</td>\n",
       "    </tr>\n",
       "    <tr>\n",
       "      <th>1</th>\n",
       "      <td>0.802354</td>\n",
       "      <td>0.174896</td>\n",
       "      <td>0.297702</td>\n",
       "      <td>0.458772</td>\n",
       "      <td>0.201251</td>\n",
       "      <td>0.606651</td>\n",
       "      <td>0.389214</td>\n",
       "      <td>0.045324</td>\n",
       "      <td>0.571351</td>\n",
       "      <td>0.614678</td>\n",
       "      <td>...</td>\n",
       "      <td>0.501317</td>\n",
       "      <td>0.274360</td>\n",
       "      <td>0.550284</td>\n",
       "      <td>0.607043</td>\n",
       "      <td>0.185469</td>\n",
       "      <td>0.236399</td>\n",
       "      <td>0.458581</td>\n",
       "      <td>0.496799</td>\n",
       "      <td>0.182292</td>\n",
       "      <td>0.482438</td>\n",
       "    </tr>\n",
       "    <tr>\n",
       "      <th>2</th>\n",
       "      <td>0.182052</td>\n",
       "      <td>0.620100</td>\n",
       "      <td>0.423688</td>\n",
       "      <td>0.594565</td>\n",
       "      <td>0.290701</td>\n",
       "      <td>0.634042</td>\n",
       "      <td>0.586894</td>\n",
       "      <td>0.077759</td>\n",
       "      <td>0.507265</td>\n",
       "      <td>0.381566</td>\n",
       "      <td>...</td>\n",
       "      <td>0.414178</td>\n",
       "      <td>0.980612</td>\n",
       "      <td>0.367692</td>\n",
       "      <td>0.414962</td>\n",
       "      <td>0.923317</td>\n",
       "      <td>0.256637</td>\n",
       "      <td>0.316308</td>\n",
       "      <td>0.472971</td>\n",
       "      <td>0.294977</td>\n",
       "      <td>0.432189</td>\n",
       "    </tr>\n",
       "    <tr>\n",
       "      <th>3</th>\n",
       "      <td>0.403698</td>\n",
       "      <td>0.587697</td>\n",
       "      <td>0.536670</td>\n",
       "      <td>0.392441</td>\n",
       "      <td>0.316240</td>\n",
       "      <td>0.453491</td>\n",
       "      <td>0.356992</td>\n",
       "      <td>0.728428</td>\n",
       "      <td>0.541050</td>\n",
       "      <td>0.541569</td>\n",
       "      <td>...</td>\n",
       "      <td>0.431090</td>\n",
       "      <td>0.281675</td>\n",
       "      <td>0.531958</td>\n",
       "      <td>0.437796</td>\n",
       "      <td>0.338185</td>\n",
       "      <td>0.870150</td>\n",
       "      <td>0.391732</td>\n",
       "      <td>0.618707</td>\n",
       "      <td>0.274115</td>\n",
       "      <td>0.550919</td>\n",
       "    </tr>\n",
       "    <tr>\n",
       "      <th>4</th>\n",
       "      <td>0.485772</td>\n",
       "      <td>0.328803</td>\n",
       "      <td>0.417269</td>\n",
       "      <td>0.436980</td>\n",
       "      <td>0.364149</td>\n",
       "      <td>0.348015</td>\n",
       "      <td>0.655738</td>\n",
       "      <td>0.146722</td>\n",
       "      <td>0.543915</td>\n",
       "      <td>0.429067</td>\n",
       "      <td>...</td>\n",
       "      <td>0.509005</td>\n",
       "      <td>0.382321</td>\n",
       "      <td>0.461352</td>\n",
       "      <td>0.593297</td>\n",
       "      <td>0.350254</td>\n",
       "      <td>0.355846</td>\n",
       "      <td>0.860201</td>\n",
       "      <td>0.576064</td>\n",
       "      <td>0.272566</td>\n",
       "      <td>0.496106</td>\n",
       "    </tr>\n",
       "    <tr>\n",
       "      <th>5</th>\n",
       "      <td>0.568241</td>\n",
       "      <td>0.312556</td>\n",
       "      <td>0.632238</td>\n",
       "      <td>0.520132</td>\n",
       "      <td>0.280672</td>\n",
       "      <td>0.472324</td>\n",
       "      <td>0.383778</td>\n",
       "      <td>0.342343</td>\n",
       "      <td>0.626594</td>\n",
       "      <td>0.445896</td>\n",
       "      <td>...</td>\n",
       "      <td>0.770540</td>\n",
       "      <td>0.357518</td>\n",
       "      <td>0.851112</td>\n",
       "      <td>0.728799</td>\n",
       "      <td>0.463038</td>\n",
       "      <td>0.526430</td>\n",
       "      <td>0.629277</td>\n",
       "      <td>0.624325</td>\n",
       "      <td>0.327103</td>\n",
       "      <td>0.658937</td>\n",
       "    </tr>\n",
       "    <tr>\n",
       "      <th>6</th>\n",
       "      <td>0.195533</td>\n",
       "      <td>0.569499</td>\n",
       "      <td>0.488905</td>\n",
       "      <td>0.584908</td>\n",
       "      <td>0.140172</td>\n",
       "      <td>0.526036</td>\n",
       "      <td>0.495389</td>\n",
       "      <td>0.294844</td>\n",
       "      <td>0.529956</td>\n",
       "      <td>0.409744</td>\n",
       "      <td>...</td>\n",
       "      <td>0.437319</td>\n",
       "      <td>0.729269</td>\n",
       "      <td>0.337894</td>\n",
       "      <td>0.421699</td>\n",
       "      <td>0.658310</td>\n",
       "      <td>0.314848</td>\n",
       "      <td>0.351367</td>\n",
       "      <td>0.446950</td>\n",
       "      <td>0.034984</td>\n",
       "      <td>0.498873</td>\n",
       "    </tr>\n",
       "    <tr>\n",
       "      <th>7</th>\n",
       "      <td>0.216890</td>\n",
       "      <td>0.603217</td>\n",
       "      <td>0.410178</td>\n",
       "      <td>0.444974</td>\n",
       "      <td>0.319202</td>\n",
       "      <td>0.546768</td>\n",
       "      <td>0.654493</td>\n",
       "      <td>0.181580</td>\n",
       "      <td>0.513214</td>\n",
       "      <td>0.438324</td>\n",
       "      <td>...</td>\n",
       "      <td>0.282090</td>\n",
       "      <td>0.880488</td>\n",
       "      <td>0.169452</td>\n",
       "      <td>0.396115</td>\n",
       "      <td>0.709636</td>\n",
       "      <td>0.250342</td>\n",
       "      <td>0.408206</td>\n",
       "      <td>0.470018</td>\n",
       "      <td>0.193060</td>\n",
       "      <td>0.313111</td>\n",
       "    </tr>\n",
       "    <tr>\n",
       "      <th>8</th>\n",
       "      <td>0.493626</td>\n",
       "      <td>0.408330</td>\n",
       "      <td>0.434773</td>\n",
       "      <td>0.334573</td>\n",
       "      <td>0.742378</td>\n",
       "      <td>0.354016</td>\n",
       "      <td>0.625559</td>\n",
       "      <td>0.054677</td>\n",
       "      <td>0.332689</td>\n",
       "      <td>0.227525</td>\n",
       "      <td>...</td>\n",
       "      <td>0.152071</td>\n",
       "      <td>0.268352</td>\n",
       "      <td>0.484183</td>\n",
       "      <td>0.252942</td>\n",
       "      <td>0.337886</td>\n",
       "      <td>0.271426</td>\n",
       "      <td>0.401668</td>\n",
       "      <td>0.324908</td>\n",
       "      <td>0.566534</td>\n",
       "      <td>0.359915</td>\n",
       "    </tr>\n",
       "    <tr>\n",
       "      <th>9</th>\n",
       "      <td>0.305529</td>\n",
       "      <td>0.489804</td>\n",
       "      <td>0.609273</td>\n",
       "      <td>0.386666</td>\n",
       "      <td>0.508081</td>\n",
       "      <td>0.312311</td>\n",
       "      <td>0.786124</td>\n",
       "      <td>0.217038</td>\n",
       "      <td>0.486091</td>\n",
       "      <td>0.381266</td>\n",
       "      <td>...</td>\n",
       "      <td>0.374838</td>\n",
       "      <td>0.459349</td>\n",
       "      <td>0.396394</td>\n",
       "      <td>0.484692</td>\n",
       "      <td>0.452012</td>\n",
       "      <td>0.402579</td>\n",
       "      <td>0.883782</td>\n",
       "      <td>0.535967</td>\n",
       "      <td>0.377804</td>\n",
       "      <td>0.364260</td>\n",
       "    </tr>\n",
       "    <tr>\n",
       "      <th>0</th>\n",
       "      <td>0.408521</td>\n",
       "      <td>0.343382</td>\n",
       "      <td>0.418677</td>\n",
       "      <td>0.722970</td>\n",
       "      <td>0.135663</td>\n",
       "      <td>0.607441</td>\n",
       "      <td>0.265595</td>\n",
       "      <td>0.267997</td>\n",
       "      <td>0.635058</td>\n",
       "      <td>0.420764</td>\n",
       "      <td>...</td>\n",
       "      <td>1.000000</td>\n",
       "      <td>0.406654</td>\n",
       "      <td>0.794696</td>\n",
       "      <td>0.823388</td>\n",
       "      <td>0.453678</td>\n",
       "      <td>0.345674</td>\n",
       "      <td>0.404465</td>\n",
       "      <td>0.626215</td>\n",
       "      <td>0.171209</td>\n",
       "      <td>0.833449</td>\n",
       "    </tr>\n",
       "    <tr>\n",
       "      <th>1</th>\n",
       "      <td>0.182680</td>\n",
       "      <td>0.627194</td>\n",
       "      <td>0.448276</td>\n",
       "      <td>0.601399</td>\n",
       "      <td>0.299004</td>\n",
       "      <td>0.614675</td>\n",
       "      <td>0.613678</td>\n",
       "      <td>0.118880</td>\n",
       "      <td>0.564807</td>\n",
       "      <td>0.385464</td>\n",
       "      <td>...</td>\n",
       "      <td>0.406654</td>\n",
       "      <td>1.000000</td>\n",
       "      <td>0.347218</td>\n",
       "      <td>0.393909</td>\n",
       "      <td>0.927202</td>\n",
       "      <td>0.296586</td>\n",
       "      <td>0.325514</td>\n",
       "      <td>0.483348</td>\n",
       "      <td>0.272346</td>\n",
       "      <td>0.451053</td>\n",
       "    </tr>\n",
       "    <tr>\n",
       "      <th>2</th>\n",
       "      <td>0.581826</td>\n",
       "      <td>0.457570</td>\n",
       "      <td>0.616560</td>\n",
       "      <td>0.667179</td>\n",
       "      <td>0.353075</td>\n",
       "      <td>0.634420</td>\n",
       "      <td>0.394406</td>\n",
       "      <td>0.307469</td>\n",
       "      <td>0.623477</td>\n",
       "      <td>0.471929</td>\n",
       "      <td>...</td>\n",
       "      <td>0.794696</td>\n",
       "      <td>0.347218</td>\n",
       "      <td>1.000000</td>\n",
       "      <td>0.734231</td>\n",
       "      <td>0.495710</td>\n",
       "      <td>0.510566</td>\n",
       "      <td>0.490012</td>\n",
       "      <td>0.636617</td>\n",
       "      <td>0.310217</td>\n",
       "      <td>0.775532</td>\n",
       "    </tr>\n",
       "    <tr>\n",
       "      <th>3</th>\n",
       "      <td>0.572817</td>\n",
       "      <td>0.402815</td>\n",
       "      <td>0.498068</td>\n",
       "      <td>0.603101</td>\n",
       "      <td>0.229937</td>\n",
       "      <td>0.669615</td>\n",
       "      <td>0.413544</td>\n",
       "      <td>0.339112</td>\n",
       "      <td>0.680434</td>\n",
       "      <td>0.615478</td>\n",
       "      <td>...</td>\n",
       "      <td>0.823388</td>\n",
       "      <td>0.393909</td>\n",
       "      <td>0.734231</td>\n",
       "      <td>1.000000</td>\n",
       "      <td>0.393526</td>\n",
       "      <td>0.386779</td>\n",
       "      <td>0.587260</td>\n",
       "      <td>0.753339</td>\n",
       "      <td>0.298079</td>\n",
       "      <td>0.720116</td>\n",
       "    </tr>\n",
       "    <tr>\n",
       "      <th>4</th>\n",
       "      <td>0.135473</td>\n",
       "      <td>0.676322</td>\n",
       "      <td>0.511671</td>\n",
       "      <td>0.661031</td>\n",
       "      <td>0.355441</td>\n",
       "      <td>0.624598</td>\n",
       "      <td>0.587264</td>\n",
       "      <td>0.125565</td>\n",
       "      <td>0.538505</td>\n",
       "      <td>0.374431</td>\n",
       "      <td>...</td>\n",
       "      <td>0.453678</td>\n",
       "      <td>0.927202</td>\n",
       "      <td>0.495710</td>\n",
       "      <td>0.393526</td>\n",
       "      <td>1.000000</td>\n",
       "      <td>0.323163</td>\n",
       "      <td>0.335867</td>\n",
       "      <td>0.465280</td>\n",
       "      <td>0.377508</td>\n",
       "      <td>0.524732</td>\n",
       "    </tr>\n",
       "    <tr>\n",
       "      <th>5</th>\n",
       "      <td>0.487951</td>\n",
       "      <td>0.598786</td>\n",
       "      <td>0.608924</td>\n",
       "      <td>0.322748</td>\n",
       "      <td>0.395284</td>\n",
       "      <td>0.445297</td>\n",
       "      <td>0.487572</td>\n",
       "      <td>0.655791</td>\n",
       "      <td>0.574952</td>\n",
       "      <td>0.498599</td>\n",
       "      <td>...</td>\n",
       "      <td>0.345674</td>\n",
       "      <td>0.296586</td>\n",
       "      <td>0.510566</td>\n",
       "      <td>0.386779</td>\n",
       "      <td>0.323163</td>\n",
       "      <td>1.000000</td>\n",
       "      <td>0.398809</td>\n",
       "      <td>0.636573</td>\n",
       "      <td>0.229240</td>\n",
       "      <td>0.414983</td>\n",
       "    </tr>\n",
       "    <tr>\n",
       "      <th>6</th>\n",
       "      <td>0.391689</td>\n",
       "      <td>0.424369</td>\n",
       "      <td>0.594789</td>\n",
       "      <td>0.345781</td>\n",
       "      <td>0.416039</td>\n",
       "      <td>0.330954</td>\n",
       "      <td>0.648800</td>\n",
       "      <td>0.296453</td>\n",
       "      <td>0.470657</td>\n",
       "      <td>0.457839</td>\n",
       "      <td>...</td>\n",
       "      <td>0.404465</td>\n",
       "      <td>0.325514</td>\n",
       "      <td>0.490012</td>\n",
       "      <td>0.587260</td>\n",
       "      <td>0.335867</td>\n",
       "      <td>0.398809</td>\n",
       "      <td>1.000000</td>\n",
       "      <td>0.583565</td>\n",
       "      <td>0.390951</td>\n",
       "      <td>0.392927</td>\n",
       "    </tr>\n",
       "    <tr>\n",
       "      <th>7</th>\n",
       "      <td>0.558137</td>\n",
       "      <td>0.589404</td>\n",
       "      <td>0.583666</td>\n",
       "      <td>0.631078</td>\n",
       "      <td>0.378902</td>\n",
       "      <td>0.685343</td>\n",
       "      <td>0.617235</td>\n",
       "      <td>0.461723</td>\n",
       "      <td>0.735370</td>\n",
       "      <td>0.611542</td>\n",
       "      <td>...</td>\n",
       "      <td>0.626215</td>\n",
       "      <td>0.483348</td>\n",
       "      <td>0.636617</td>\n",
       "      <td>0.753339</td>\n",
       "      <td>0.465280</td>\n",
       "      <td>0.636573</td>\n",
       "      <td>0.583565</td>\n",
       "      <td>1.000000</td>\n",
       "      <td>0.390627</td>\n",
       "      <td>0.674856</td>\n",
       "    </tr>\n",
       "    <tr>\n",
       "      <th>8</th>\n",
       "      <td>0.308228</td>\n",
       "      <td>0.455022</td>\n",
       "      <td>0.270689</td>\n",
       "      <td>0.432729</td>\n",
       "      <td>0.649483</td>\n",
       "      <td>0.444102</td>\n",
       "      <td>0.438008</td>\n",
       "      <td>0.199461</td>\n",
       "      <td>0.358253</td>\n",
       "      <td>0.426408</td>\n",
       "      <td>...</td>\n",
       "      <td>0.171209</td>\n",
       "      <td>0.272346</td>\n",
       "      <td>0.310217</td>\n",
       "      <td>0.298079</td>\n",
       "      <td>0.377508</td>\n",
       "      <td>0.229240</td>\n",
       "      <td>0.390951</td>\n",
       "      <td>0.390627</td>\n",
       "      <td>1.000000</td>\n",
       "      <td>0.370865</td>\n",
       "    </tr>\n",
       "    <tr>\n",
       "      <th>9</th>\n",
       "      <td>0.451180</td>\n",
       "      <td>0.483837</td>\n",
       "      <td>0.429600</td>\n",
       "      <td>0.771895</td>\n",
       "      <td>0.277284</td>\n",
       "      <td>0.662214</td>\n",
       "      <td>0.386192</td>\n",
       "      <td>0.349870</td>\n",
       "      <td>0.692860</td>\n",
       "      <td>0.522636</td>\n",
       "      <td>...</td>\n",
       "      <td>0.833449</td>\n",
       "      <td>0.451053</td>\n",
       "      <td>0.775532</td>\n",
       "      <td>0.720116</td>\n",
       "      <td>0.524732</td>\n",
       "      <td>0.414983</td>\n",
       "      <td>0.392927</td>\n",
       "      <td>0.674856</td>\n",
       "      <td>0.370865</td>\n",
       "      <td>1.000000</td>\n",
       "    </tr>\n",
       "  </tbody>\n",
       "</table>\n",
       "<p>1000 rows × 1000 columns</p>\n",
       "</div>"
      ],
      "text/plain": [
       "           0         1         2         3         4         5         6  \\\n",
       "0   1.000000  0.199519  0.327245  0.367475  0.331435  0.577359  0.438281   \n",
       "1   0.199519  1.000000  0.670949  0.559261  0.527952  0.583817  0.683065   \n",
       "2   0.327245  0.670949  1.000000  0.360902  0.434437  0.404961  0.585034   \n",
       "3   0.367475  0.559261  0.360902  1.000000  0.323492  0.778152  0.486779   \n",
       "4   0.331435  0.527952  0.434437  0.323492  1.000000  0.397751  0.704592   \n",
       "5   0.577359  0.583817  0.404961  0.778152  0.397751  1.000000  0.491466   \n",
       "6   0.438281  0.683065  0.585034  0.486779  0.704592  0.491466  1.000000   \n",
       "7   0.172338  0.458166  0.483891  0.175534  0.140954  0.179151  0.200269   \n",
       "8   0.554018  0.547606  0.638635  0.618459  0.424631  0.673076  0.611179   \n",
       "9   0.622718  0.464037  0.406046  0.552298  0.353398  0.812715  0.448222   \n",
       "0   0.854627  0.365637  0.522875  0.302245  0.533470  0.471365  0.647917   \n",
       "1   0.191798  0.773147  0.661580  0.503684  0.606426  0.586173  0.511764   \n",
       "2   0.302503  0.581020  0.494758  0.477724  0.107970  0.512724  0.532015   \n",
       "3   0.454000  0.546491  0.478799  0.800538  0.240122  0.749432  0.352538   \n",
       "4   0.512496  0.614435  0.501896  0.315488  0.800703  0.460000  0.672664   \n",
       "5   0.300261  0.588371  0.344258  0.467576  0.151554  0.426688  0.476426   \n",
       "6   0.155773  0.673534  0.599554  0.545866  0.629516  0.422275  0.767594   \n",
       "7   0.456933  0.628198  0.616081  0.388811  0.514071  0.499606  0.472923   \n",
       "8   0.413203  0.580013  0.583775  0.466370  0.382167  0.523805  0.443351   \n",
       "9   0.327573  0.420093  0.330816  0.751612  0.258376  0.759140  0.423720   \n",
       "0   0.854554  0.389489  0.539214  0.374304  0.501796  0.579991  0.619282   \n",
       "1   0.218848  0.801442  0.647033  0.520191  0.543033  0.602179  0.490357   \n",
       "2   0.318946  0.618893  0.615857  0.564526  0.143746  0.515450  0.518904   \n",
       "3   0.520931  0.426435  0.438618  0.540230  0.169652  0.536797  0.255906   \n",
       "4   0.323289  0.557015  0.470470  0.407344  0.829610  0.480587  0.644056   \n",
       "5   0.507848  0.517636  0.349355  0.329910  0.305862  0.450651  0.575542   \n",
       "6   0.493782  0.645013  0.615409  0.472865  0.645368  0.477970  0.965510   \n",
       "7   0.436884  0.538227  0.443394  0.312143  0.523188  0.416595  0.352916   \n",
       "8   0.558258  0.557682  0.665455  0.482178  0.414106  0.624199  0.548297   \n",
       "9   0.427872  0.490968  0.426856  0.784116  0.345010  0.849666  0.471912   \n",
       "..       ...       ...       ...       ...       ...       ...       ...   \n",
       "0   0.371348  0.573377  0.437375  0.372253  0.794015  0.438469  0.552551   \n",
       "1   0.459921  0.356504  0.441699  0.560398  0.102195  0.613340  0.307117   \n",
       "2   0.151946  0.637581  0.453155  0.659958  0.358628  0.644683  0.555051   \n",
       "3   0.558579  0.405315  0.298312  0.702558  0.238635  0.734046  0.431673   \n",
       "4   0.857604  0.139597  0.244785  0.490192  0.199535  0.521140  0.351161   \n",
       "5   0.403165  0.332599  0.323085  0.631990  0.103607  0.647108  0.271659   \n",
       "6   0.585083  0.365071  0.231516  0.715270  0.191711  0.770740  0.370372   \n",
       "7   0.393291  0.510599  0.529493  0.623561  0.177888  0.561986  0.438344   \n",
       "8   0.602759  0.505699  0.619457  0.604976  0.352518  0.615625  0.543159   \n",
       "9   0.280100  0.603496  0.601089  0.601537  0.166179  0.576040  0.476082   \n",
       "0   0.833781  0.162011  0.257946  0.458238  0.236952  0.522815  0.387023   \n",
       "1   0.802354  0.174896  0.297702  0.458772  0.201251  0.606651  0.389214   \n",
       "2   0.182052  0.620100  0.423688  0.594565  0.290701  0.634042  0.586894   \n",
       "3   0.403698  0.587697  0.536670  0.392441  0.316240  0.453491  0.356992   \n",
       "4   0.485772  0.328803  0.417269  0.436980  0.364149  0.348015  0.655738   \n",
       "5   0.568241  0.312556  0.632238  0.520132  0.280672  0.472324  0.383778   \n",
       "6   0.195533  0.569499  0.488905  0.584908  0.140172  0.526036  0.495389   \n",
       "7   0.216890  0.603217  0.410178  0.444974  0.319202  0.546768  0.654493   \n",
       "8   0.493626  0.408330  0.434773  0.334573  0.742378  0.354016  0.625559   \n",
       "9   0.305529  0.489804  0.609273  0.386666  0.508081  0.312311  0.786124   \n",
       "0   0.408521  0.343382  0.418677  0.722970  0.135663  0.607441  0.265595   \n",
       "1   0.182680  0.627194  0.448276  0.601399  0.299004  0.614675  0.613678   \n",
       "2   0.581826  0.457570  0.616560  0.667179  0.353075  0.634420  0.394406   \n",
       "3   0.572817  0.402815  0.498068  0.603101  0.229937  0.669615  0.413544   \n",
       "4   0.135473  0.676322  0.511671  0.661031  0.355441  0.624598  0.587264   \n",
       "5   0.487951  0.598786  0.608924  0.322748  0.395284  0.445297  0.487572   \n",
       "6   0.391689  0.424369  0.594789  0.345781  0.416039  0.330954  0.648800   \n",
       "7   0.558137  0.589404  0.583666  0.631078  0.378902  0.685343  0.617235   \n",
       "8   0.308228  0.455022  0.270689  0.432729  0.649483  0.444102  0.438008   \n",
       "9   0.451180  0.483837  0.429600  0.771895  0.277284  0.662214  0.386192   \n",
       "\n",
       "           7         8         9  ...         0         1         2         3  \\\n",
       "0   0.172338  0.554018  0.622718  ...  0.408521  0.182680  0.581826  0.572817   \n",
       "1   0.458166  0.547606  0.464037  ...  0.343382  0.627194  0.457570  0.402815   \n",
       "2   0.483891  0.638635  0.406046  ...  0.418677  0.448276  0.616560  0.498068   \n",
       "3   0.175534  0.618459  0.552298  ...  0.722970  0.601399  0.667179  0.603101   \n",
       "4   0.140954  0.424631  0.353398  ...  0.135663  0.299004  0.353075  0.229937   \n",
       "5   0.179151  0.673076  0.812715  ...  0.607441  0.614675  0.634420  0.669615   \n",
       "6   0.200269  0.611179  0.448222  ...  0.265595  0.613678  0.394406  0.413544   \n",
       "7   1.000000  0.391925  0.321053  ...  0.267997  0.118880  0.307469  0.339112   \n",
       "8   0.391925  1.000000  0.633985  ...  0.635058  0.564807  0.623477  0.680434   \n",
       "9   0.321053  0.633985  1.000000  ...  0.420764  0.385464  0.471929  0.615478   \n",
       "0   0.304003  0.514064  0.533309  ...  0.301968  0.198797  0.532146  0.525761   \n",
       "1   0.435574  0.536870  0.509040  ...  0.384770  0.453835  0.500783  0.435434   \n",
       "2   0.234995  0.425737  0.418583  ...  0.376390  0.771853  0.343276  0.444124   \n",
       "3   0.413256  0.636163  0.563100  ...  0.760525  0.513814  0.720444  0.610106   \n",
       "4   0.297638  0.556285  0.570544  ...  0.152977  0.341290  0.337933  0.345585   \n",
       "5   0.482030  0.423368  0.379534  ...  0.217140  0.518123  0.207376  0.301115   \n",
       "6   0.194497  0.509612  0.327735  ...  0.419246  0.555476  0.448118  0.422089   \n",
       "7   0.557451  0.527774  0.608915  ...  0.377106  0.285905  0.529700  0.471670   \n",
       "8   0.487929  0.650324  0.469892  ...  0.437631  0.418958  0.477479  0.383018   \n",
       "9   0.061179  0.509615  0.588068  ...  0.640029  0.625839  0.581426  0.650401   \n",
       "0   0.296717  0.565105  0.690269  ...  0.363315  0.207674  0.604777  0.581796   \n",
       "1   0.444918  0.498401  0.496065  ...  0.417838  0.463444  0.515913  0.497077   \n",
       "2   0.389074  0.581242  0.461804  ...  0.487622  0.646506  0.466476  0.503783   \n",
       "3   0.541039  0.595676  0.457272  ...  0.539063  0.402301  0.609980  0.481653   \n",
       "4   0.257387  0.507924  0.547067  ...  0.172014  0.317447  0.337883  0.338449   \n",
       "5   0.371992  0.489643  0.583593  ...  0.124782  0.471223  0.176575  0.303038   \n",
       "6   0.177794  0.621821  0.440138  ...  0.296725  0.609426  0.419853  0.436794   \n",
       "7   0.548833  0.467396  0.473664  ...  0.335399  0.244139  0.499231  0.427266   \n",
       "8   0.458123  0.877250  0.637688  ...  0.439946  0.539355  0.538695  0.499186   \n",
       "9   0.135656  0.558943  0.680361  ...  0.633346  0.636018  0.633808  0.704492   \n",
       "..       ...       ...       ...  ...       ...       ...       ...       ...   \n",
       "0   0.302141  0.496025  0.466023  ...  0.161790  0.317821  0.351937  0.293221   \n",
       "1   0.289779  0.544561  0.515510  ...  0.779900  0.409996  0.631441  0.899764   \n",
       "2   0.118660  0.540661  0.424080  ...  0.461329  0.909253  0.477949  0.413606   \n",
       "3   0.236274  0.535444  0.628283  ...  0.557861  0.473432  0.537780  0.646533   \n",
       "4   0.082002  0.546498  0.529570  ...  0.587389  0.184451  0.605913  0.648206   \n",
       "5   0.264974  0.610530  0.550366  ...  0.835000  0.449866  0.589470  0.890042   \n",
       "6   0.232462  0.513801  0.686033  ...  0.620788  0.428084  0.576632  0.722285   \n",
       "7   0.306217  0.567731  0.460640  ...  0.606435  0.657824  0.533595  0.585513   \n",
       "8   0.507007  0.832213  0.600362  ...  0.699325  0.396100  0.695604  0.804203   \n",
       "9   0.313990  0.564571  0.482764  ...  0.516670  0.776427  0.445670  0.527599   \n",
       "0   0.121934  0.524629  0.463588  ...  0.464866  0.248644  0.539091  0.535595   \n",
       "1   0.045324  0.571351  0.614678  ...  0.501317  0.274360  0.550284  0.607043   \n",
       "2   0.077759  0.507265  0.381566  ...  0.414178  0.980612  0.367692  0.414962   \n",
       "3   0.728428  0.541050  0.541569  ...  0.431090  0.281675  0.531958  0.437796   \n",
       "4   0.146722  0.543915  0.429067  ...  0.509005  0.382321  0.461352  0.593297   \n",
       "5   0.342343  0.626594  0.445896  ...  0.770540  0.357518  0.851112  0.728799   \n",
       "6   0.294844  0.529956  0.409744  ...  0.437319  0.729269  0.337894  0.421699   \n",
       "7   0.181580  0.513214  0.438324  ...  0.282090  0.880488  0.169452  0.396115   \n",
       "8   0.054677  0.332689  0.227525  ...  0.152071  0.268352  0.484183  0.252942   \n",
       "9   0.217038  0.486091  0.381266  ...  0.374838  0.459349  0.396394  0.484692   \n",
       "0   0.267997  0.635058  0.420764  ...  1.000000  0.406654  0.794696  0.823388   \n",
       "1   0.118880  0.564807  0.385464  ...  0.406654  1.000000  0.347218  0.393909   \n",
       "2   0.307469  0.623477  0.471929  ...  0.794696  0.347218  1.000000  0.734231   \n",
       "3   0.339112  0.680434  0.615478  ...  0.823388  0.393909  0.734231  1.000000   \n",
       "4   0.125565  0.538505  0.374431  ...  0.453678  0.927202  0.495710  0.393526   \n",
       "5   0.655791  0.574952  0.498599  ...  0.345674  0.296586  0.510566  0.386779   \n",
       "6   0.296453  0.470657  0.457839  ...  0.404465  0.325514  0.490012  0.587260   \n",
       "7   0.461723  0.735370  0.611542  ...  0.626215  0.483348  0.636617  0.753339   \n",
       "8   0.199461  0.358253  0.426408  ...  0.171209  0.272346  0.310217  0.298079   \n",
       "9   0.349870  0.692860  0.522636  ...  0.833449  0.451053  0.775532  0.720116   \n",
       "\n",
       "           4         5         6         7         8         9  \n",
       "0   0.135473  0.487951  0.391689  0.558137  0.308228  0.451180  \n",
       "1   0.676322  0.598786  0.424369  0.589404  0.455022  0.483837  \n",
       "2   0.511671  0.608924  0.594789  0.583666  0.270689  0.429600  \n",
       "3   0.661031  0.322748  0.345781  0.631078  0.432729  0.771895  \n",
       "4   0.355441  0.395284  0.416039  0.378902  0.649483  0.277284  \n",
       "5   0.624598  0.445297  0.330954  0.685343  0.444102  0.662214  \n",
       "6   0.587264  0.487572  0.648800  0.617235  0.438008  0.386192  \n",
       "7   0.125565  0.655791  0.296453  0.461723  0.199461  0.349870  \n",
       "8   0.538505  0.574952  0.470657  0.735370  0.358253  0.692860  \n",
       "9   0.374431  0.498599  0.457839  0.611542  0.426408  0.522636  \n",
       "0   0.167861  0.560318  0.596096  0.635449  0.446815  0.343326  \n",
       "1   0.556794  0.517447  0.349638  0.549942  0.629524  0.490565  \n",
       "2   0.704082  0.396773  0.429053  0.443758  0.086424  0.373034  \n",
       "3   0.583697  0.537869  0.228255  0.684262  0.355853  0.802572  \n",
       "4   0.362383  0.592257  0.497210  0.532766  0.701363  0.314574  \n",
       "5   0.391635  0.519124  0.324483  0.552429  0.170775  0.324092  \n",
       "6   0.602052  0.432390  0.704627  0.500992  0.451837  0.419237  \n",
       "7   0.335519  0.775351  0.513403  0.611748  0.408519  0.487304  \n",
       "8   0.373963  0.568872  0.279244  0.440898  0.215317  0.465788  \n",
       "9   0.660934  0.242080  0.403052  0.517313  0.267951  0.530000  \n",
       "0   0.201565  0.625799  0.558358  0.668210  0.336267  0.410633  \n",
       "1   0.551407  0.551978  0.372208  0.615303  0.562180  0.486361  \n",
       "2   0.616314  0.446459  0.459257  0.508173  0.086486  0.561981  \n",
       "3   0.433565  0.641478  0.145334  0.622349  0.305889  0.646575  \n",
       "4   0.382567  0.437002  0.442465  0.502061  0.744107  0.346884  \n",
       "5   0.311989  0.470910  0.438022  0.458569  0.236807  0.308952  \n",
       "6   0.560668  0.460042  0.675705  0.573885  0.368250  0.378169  \n",
       "7   0.344810  0.618605  0.359834  0.529059  0.686999  0.506884  \n",
       "8   0.525266  0.640943  0.367016  0.587430  0.348662  0.560577  \n",
       "9   0.678621  0.333854  0.401273  0.587372  0.369779  0.585320  \n",
       "..       ...       ...       ...       ...       ...       ...  \n",
       "0   0.400231  0.450122  0.391723  0.440207  0.887277  0.362640  \n",
       "1   0.387182  0.333934  0.434131  0.638832  0.179902  0.566277  \n",
       "2   0.947012  0.279339  0.324128  0.477820  0.404571  0.559612  \n",
       "3   0.419012  0.374224  0.430331  0.742691  0.320119  0.611836  \n",
       "4   0.125129  0.290510  0.411087  0.560842  0.188566  0.547724  \n",
       "5   0.406212  0.298745  0.418532  0.631878  0.209546  0.668361  \n",
       "6   0.379612  0.305259  0.453332  0.668880  0.306214  0.601428  \n",
       "7   0.609307  0.476556  0.353583  0.527197  0.063151  0.613331  \n",
       "8   0.396537  0.613672  0.606872  0.857653  0.405877  0.741859  \n",
       "9   0.713469  0.474983  0.354332  0.501200  0.106597  0.516409  \n",
       "0   0.178018  0.322405  0.409195  0.602601  0.288251  0.522368  \n",
       "1   0.185469  0.236399  0.458581  0.496799  0.182292  0.482438  \n",
       "2   0.923317  0.256637  0.316308  0.472971  0.294977  0.432189  \n",
       "3   0.338185  0.870150  0.391732  0.618707  0.274115  0.550919  \n",
       "4   0.350254  0.355846  0.860201  0.576064  0.272566  0.496106  \n",
       "5   0.463038  0.526430  0.629277  0.624325  0.327103  0.658937  \n",
       "6   0.658310  0.314848  0.351367  0.446950  0.034984  0.498873  \n",
       "7   0.709636  0.250342  0.408206  0.470018  0.193060  0.313111  \n",
       "8   0.337886  0.271426  0.401668  0.324908  0.566534  0.359915  \n",
       "9   0.452012  0.402579  0.883782  0.535967  0.377804  0.364260  \n",
       "0   0.453678  0.345674  0.404465  0.626215  0.171209  0.833449  \n",
       "1   0.927202  0.296586  0.325514  0.483348  0.272346  0.451053  \n",
       "2   0.495710  0.510566  0.490012  0.636617  0.310217  0.775532  \n",
       "3   0.393526  0.386779  0.587260  0.753339  0.298079  0.720116  \n",
       "4   1.000000  0.323163  0.335867  0.465280  0.377508  0.524732  \n",
       "5   0.323163  1.000000  0.398809  0.636573  0.229240  0.414983  \n",
       "6   0.335867  0.398809  1.000000  0.583565  0.390951  0.392927  \n",
       "7   0.465280  0.636573  0.583565  1.000000  0.390627  0.674856  \n",
       "8   0.377508  0.229240  0.390951  0.390627  1.000000  0.370865  \n",
       "9   0.524732  0.414983  0.392927  0.674856  0.370865  1.000000  \n",
       "\n",
       "[1000 rows x 1000 columns]"
      ]
     },
     "execution_count": 43,
     "metadata": {},
     "output_type": "execute_result"
    }
   ],
   "source": [
    "import pandas\n",
    "n=1000\n",
    "images=digits.data[0:n]\n",
    "print(images.shape)\n",
    "data = [[0] * n for i in range(n)]\n",
    "for row in range(n):\n",
    "    for col in range(n):\n",
    "        data[row][col]=correlation(images[row],images[col])\n",
    "target_names=[]\n",
    "for i in range(100):\n",
    "    target_names.extend(digits.target_names)\n",
    "pandas.DataFrame(data, target_names, target_names)"
   ]
  },
  {
   "cell_type": "code",
   "execution_count": 47,
   "metadata": {},
   "outputs": [
    {
     "name": "stdout",
     "output_type": "stream",
     "text": [
      "[1, 11, 21, 42, 47, 56, 70, 80, 85, 87]\n"
     ]
    }
   ],
   "source": [
    "image_i=1\n",
    "x=0\n",
    "vals=[None]*10\n",
    "for y in range(1000):\n",
    "    if(data[image_i][y]>0.7):\n",
    "        vals[x]=y\n",
    "        x+=1\n",
    "    if(x==10):\n",
    "        break;\n",
    "print(vals)\n",
    "        \n",
    "    \n",
    "    \n",
    "        \n",
    "    "
   ]
  },
  {
   "cell_type": "code",
   "execution_count": 48,
   "metadata": {},
   "outputs": [
    {
     "ename": "ValueError",
     "evalue": "num must be 1 <= num <= 50, not 57",
     "output_type": "error",
     "traceback": [
      "\u001b[0;31m---------------------------------------------------------------------------\u001b[0m",
      "\u001b[0;31mValueError\u001b[0m                                Traceback (most recent call last)",
      "\u001b[0;32m<ipython-input-48-40aa97235c2f>\u001b[0m in \u001b[0;36m<module>\u001b[0;34m\u001b[0m\n\u001b[1;32m      1\u001b[0m \u001b[0mplt\u001b[0m\u001b[0;34m.\u001b[0m\u001b[0mfigure\u001b[0m\u001b[0;34m(\u001b[0m\u001b[0mfigsize\u001b[0m\u001b[0;34m=\u001b[0m\u001b[0;34m(\u001b[0m\u001b[0;36m10\u001b[0m\u001b[0;34m,\u001b[0m\u001b[0;36m10\u001b[0m\u001b[0;34m)\u001b[0m\u001b[0;34m)\u001b[0m\u001b[0;34m\u001b[0m\u001b[0;34m\u001b[0m\u001b[0m\n\u001b[1;32m      2\u001b[0m \u001b[0;32mfor\u001b[0m \u001b[0mi\u001b[0m \u001b[0;32min\u001b[0m \u001b[0mvals\u001b[0m\u001b[0;34m:\u001b[0m\u001b[0;34m\u001b[0m\u001b[0;34m\u001b[0m\u001b[0m\n\u001b[0;32m----> 3\u001b[0;31m     \u001b[0mplt\u001b[0m\u001b[0;34m.\u001b[0m\u001b[0msubplot\u001b[0m\u001b[0;34m(\u001b[0m\u001b[0;36m5\u001b[0m\u001b[0;34m,\u001b[0m\u001b[0;36m10\u001b[0m\u001b[0;34m,\u001b[0m\u001b[0mi\u001b[0m\u001b[0;34m+\u001b[0m\u001b[0;36m1\u001b[0m\u001b[0;34m)\u001b[0m\u001b[0;34m\u001b[0m\u001b[0;34m\u001b[0m\u001b[0m\n\u001b[0m\u001b[1;32m      4\u001b[0m     \u001b[0mplt\u001b[0m\u001b[0;34m.\u001b[0m\u001b[0mxticks\u001b[0m\u001b[0;34m(\u001b[0m\u001b[0;34m[\u001b[0m\u001b[0;34m]\u001b[0m\u001b[0;34m)\u001b[0m\u001b[0;34m\u001b[0m\u001b[0;34m\u001b[0m\u001b[0m\n\u001b[1;32m      5\u001b[0m     \u001b[0mplt\u001b[0m\u001b[0;34m.\u001b[0m\u001b[0myticks\u001b[0m\u001b[0;34m(\u001b[0m\u001b[0;34m[\u001b[0m\u001b[0;34m]\u001b[0m\u001b[0;34m)\u001b[0m\u001b[0;34m\u001b[0m\u001b[0;34m\u001b[0m\u001b[0m\n",
      "\u001b[0;32m~/anaconda3/lib/python3.7/site-packages/matplotlib/pyplot.py\u001b[0m in \u001b[0;36msubplot\u001b[0;34m(*args, **kwargs)\u001b[0m\n\u001b[1;32m   1068\u001b[0m \u001b[0;34m\u001b[0m\u001b[0m\n\u001b[1;32m   1069\u001b[0m     \u001b[0mfig\u001b[0m \u001b[0;34m=\u001b[0m \u001b[0mgcf\u001b[0m\u001b[0;34m(\u001b[0m\u001b[0;34m)\u001b[0m\u001b[0;34m\u001b[0m\u001b[0;34m\u001b[0m\u001b[0m\n\u001b[0;32m-> 1070\u001b[0;31m     \u001b[0ma\u001b[0m \u001b[0;34m=\u001b[0m \u001b[0mfig\u001b[0m\u001b[0;34m.\u001b[0m\u001b[0madd_subplot\u001b[0m\u001b[0;34m(\u001b[0m\u001b[0;34m*\u001b[0m\u001b[0margs\u001b[0m\u001b[0;34m,\u001b[0m \u001b[0;34m**\u001b[0m\u001b[0mkwargs\u001b[0m\u001b[0;34m)\u001b[0m\u001b[0;34m\u001b[0m\u001b[0;34m\u001b[0m\u001b[0m\n\u001b[0m\u001b[1;32m   1071\u001b[0m     \u001b[0mbbox\u001b[0m \u001b[0;34m=\u001b[0m \u001b[0ma\u001b[0m\u001b[0;34m.\u001b[0m\u001b[0mbbox\u001b[0m\u001b[0;34m\u001b[0m\u001b[0;34m\u001b[0m\u001b[0m\n\u001b[1;32m   1072\u001b[0m     \u001b[0mbyebye\u001b[0m \u001b[0;34m=\u001b[0m \u001b[0;34m[\u001b[0m\u001b[0;34m]\u001b[0m\u001b[0;34m\u001b[0m\u001b[0;34m\u001b[0m\u001b[0m\n",
      "\u001b[0;32m~/anaconda3/lib/python3.7/site-packages/matplotlib/figure.py\u001b[0m in \u001b[0;36madd_subplot\u001b[0;34m(self, *args, **kwargs)\u001b[0m\n\u001b[1;32m   1412\u001b[0m                     \u001b[0mself\u001b[0m\u001b[0;34m.\u001b[0m\u001b[0m_axstack\u001b[0m\u001b[0;34m.\u001b[0m\u001b[0mremove\u001b[0m\u001b[0;34m(\u001b[0m\u001b[0max\u001b[0m\u001b[0;34m)\u001b[0m\u001b[0;34m\u001b[0m\u001b[0;34m\u001b[0m\u001b[0m\n\u001b[1;32m   1413\u001b[0m \u001b[0;34m\u001b[0m\u001b[0m\n\u001b[0;32m-> 1414\u001b[0;31m             \u001b[0ma\u001b[0m \u001b[0;34m=\u001b[0m \u001b[0msubplot_class_factory\u001b[0m\u001b[0;34m(\u001b[0m\u001b[0mprojection_class\u001b[0m\u001b[0;34m)\u001b[0m\u001b[0;34m(\u001b[0m\u001b[0mself\u001b[0m\u001b[0;34m,\u001b[0m \u001b[0;34m*\u001b[0m\u001b[0margs\u001b[0m\u001b[0;34m,\u001b[0m \u001b[0;34m**\u001b[0m\u001b[0mkwargs\u001b[0m\u001b[0;34m)\u001b[0m\u001b[0;34m\u001b[0m\u001b[0;34m\u001b[0m\u001b[0m\n\u001b[0m\u001b[1;32m   1415\u001b[0m \u001b[0;34m\u001b[0m\u001b[0m\n\u001b[1;32m   1416\u001b[0m         \u001b[0;32mreturn\u001b[0m \u001b[0mself\u001b[0m\u001b[0;34m.\u001b[0m\u001b[0m_add_axes_internal\u001b[0m\u001b[0;34m(\u001b[0m\u001b[0mkey\u001b[0m\u001b[0;34m,\u001b[0m \u001b[0ma\u001b[0m\u001b[0;34m)\u001b[0m\u001b[0;34m\u001b[0m\u001b[0;34m\u001b[0m\u001b[0m\n",
      "\u001b[0;32m~/anaconda3/lib/python3.7/site-packages/matplotlib/axes/_subplots.py\u001b[0m in \u001b[0;36m__init__\u001b[0;34m(self, fig, *args, **kwargs)\u001b[0m\n\u001b[1;32m     57\u001b[0m                 \u001b[0;32mif\u001b[0m \u001b[0mnum\u001b[0m \u001b[0;34m<\u001b[0m \u001b[0;36m1\u001b[0m \u001b[0;32mor\u001b[0m \u001b[0mnum\u001b[0m \u001b[0;34m>\u001b[0m \u001b[0mrows\u001b[0m\u001b[0;34m*\u001b[0m\u001b[0mcols\u001b[0m\u001b[0;34m:\u001b[0m\u001b[0;34m\u001b[0m\u001b[0;34m\u001b[0m\u001b[0m\n\u001b[1;32m     58\u001b[0m                     raise ValueError(\n\u001b[0;32m---> 59\u001b[0;31m                         f\"num must be 1 <= num <= {rows*cols}, not {num}\")\n\u001b[0m\u001b[1;32m     60\u001b[0m                 self._subplotspec = GridSpec(\n\u001b[1;32m     61\u001b[0m                         rows, cols, figure=self.figure)[int(num) - 1]\n",
      "\u001b[0;31mValueError\u001b[0m: num must be 1 <= num <= 50, not 57"
     ]
    },
    {
     "data": {
      "image/png": "[encoded data removed]",
      "text/plain": [
       "<Figure size 720x720 with 5 Axes>"
      ]
     },
     "metadata": {},
     "output_type": "display_data"
    }
   ],
   "source": [
    "plt.figure(figsize=(10,10))\n",
    "for i in vals:\n",
    "    plt.subplot(5,10,i+1)\n",
    "    plt.xticks([])\n",
    "    plt.yticks([])\n",
    "    plt.grid(False)\n",
    "    plt.imshow(digits.images[i], cmap=plt.cm.binary)\n",
    "plt.show()"
   ]
  },
  {
   "cell_type": "code",
   "execution_count": 3,
   "metadata": {},
   "outputs": [
    {
     "name": "stdout",
     "output_type": "stream",
     "text": [
      "(500, 64)\n"
     ]
    }
   ],
   "source": [
    "import pandas\n",
    "import numpy as np\n",
    "from sklearn import datasets\n",
    "import matplotlib.pyplot as plt\n",
    "import cv2\n",
    "digits = datasets.load_digits()\n",
    "n=500\n",
    "images=digits.data[0:n]\n",
    "print(images.shape)\n",
    "# data = [[0] * n for i in range(n)]\n",
    "# for row in range(n):\n",
    "#     for col in range(n):\n",
    "#         data[row][col]=correlation(images[row],images[col])\n",
    "# target_names=[]\n",
    "# for i in range(100):\n",
    "#     target_names.extend(digits.target_names)\n",
    "# pandas.DataFrame(data, target_names, target_names)"
   ]
  },
  {
   "cell_type": "code",
   "execution_count": 13,
   "metadata": {},
   "outputs": [
    {
     "ename": "error",
     "evalue": "OpenCV(4.1.1) /Users/travis/build/skvark/opencv-python/opencv/modules/imgproc/src/histogram.cpp:919: error: (-210:Unsupported format or combination of formats)  in function 'calcHist'\n",
     "output_type": "error",
     "traceback": [
      "\u001b[0;31m---------------------------------------------------------------------------\u001b[0m",
      "\u001b[0;31merror\u001b[0m                                     Traceback (most recent call last)",
      "\u001b[0;32m<ipython-input-13-f284bb76e3d0>\u001b[0m in \u001b[0;36m<module>\u001b[0;34m\u001b[0m\n\u001b[0;32m----> 1\u001b[0;31m \u001b[0mhist\u001b[0m \u001b[0;34m=\u001b[0m \u001b[0mcv2\u001b[0m\u001b[0;34m.\u001b[0m\u001b[0mcalcHist\u001b[0m\u001b[0;34m(\u001b[0m\u001b[0;34m[\u001b[0m\u001b[0mdigits\u001b[0m\u001b[0;34m.\u001b[0m\u001b[0mdata\u001b[0m\u001b[0;34m[\u001b[0m\u001b[0;36m0\u001b[0m\u001b[0;34m]\u001b[0m\u001b[0;34m.\u001b[0m\u001b[0mastype\u001b[0m\u001b[0;34m(\u001b[0m\u001b[0;34m'int8'\u001b[0m\u001b[0;34m)\u001b[0m\u001b[0;34m]\u001b[0m\u001b[0;34m,\u001b[0m\u001b[0;34m[\u001b[0m\u001b[0;36m0\u001b[0m\u001b[0;34m]\u001b[0m\u001b[0;34m,\u001b[0m\u001b[0;32mNone\u001b[0m\u001b[0;34m,\u001b[0m\u001b[0;34m[\u001b[0m\u001b[0;36m256\u001b[0m\u001b[0;34m]\u001b[0m\u001b[0;34m,\u001b[0m\u001b[0;34m[\u001b[0m\u001b[0;36m0\u001b[0m\u001b[0;34m,\u001b[0m\u001b[0;36m256\u001b[0m\u001b[0;34m]\u001b[0m\u001b[0;34m)\u001b[0m\u001b[0;34m\u001b[0m\u001b[0;34m\u001b[0m\u001b[0m\n\u001b[0m",
      "\u001b[0;31merror\u001b[0m: OpenCV(4.1.1) /Users/travis/build/skvark/opencv-python/opencv/modules/imgproc/src/histogram.cpp:919: error: (-210:Unsupported format or combination of formats)  in function 'calcHist'\n"
     ]
    }
   ],
   "source": [
    "hist = cv2.calcHist([digits.data[0]],[0],None,[256],[0,256])\n"
   ]
  },
  {
   "cell_type": "code",
   "execution_count": 20,
   "metadata": {},
   "outputs": [],
   "source": []
  },
  {
   "cell_type": "code",
   "execution_count": 53,
   "metadata": {},
   "outputs": [
    {
     "data": {
      "image/png": "[encoded data removed]",
      "text/plain": [
       "<Figure size 720x720 with 1 Axes>"
      ]
     },
     "metadata": {},
     "output_type": "display_data"
    },
    {
     "data": {
      "image/png": "[encoded data removed]",
      "text/plain": [
       "<Figure size 432x288 with 1 Axes>"
      ]
     },
     "metadata": {},
     "output_type": "display_data"
    },
    {
     "data": {
      "image/png": "[encoded data removed]",
      "text/plain": [
       "<Figure size 432x288 with 1 Axes>"
      ]
     },
     "metadata": {},
     "output_type": "display_data"
    },
    {
     "data": {
      "image/png": "[encoded data removed]",
      "text/plain": [
       "<Figure size 432x288 with 1 Axes>"
      ]
     },
     "metadata": {},
     "output_type": "display_data"
    },
    {
     "data": {
      "image/png": "[encoded data removed]",
      "text/plain": [
       "<Figure size 432x288 with 1 Axes>"
      ]
     },
     "metadata": {},
     "output_type": "display_data"
    },
    {
     "data": {
      "image/png": "[encoded data removed]",
      "text/plain": [
       "<Figure size 432x288 with 1 Axes>"
      ]
     },
     "metadata": {},
     "output_type": "display_data"
    },
    {
     "data": {
      "image/png": "[encoded data removed]",
      "text/plain": [
       "<Figure size 432x288 with 1 Axes>"
      ]
     },
     "metadata": {},
     "output_type": "display_data"
    },
    {
     "data": {
      "image/png": "[encoded data removed]",
      "text/plain": [
       "<Figure size 432x288 with 1 Axes>"
      ]
     },
     "metadata": {},
     "output_type": "display_data"
    },
    {
     "data": {
      "image/png": "[encoded data removed]",
      "text/plain": [
       "<Figure size 432x288 with 1 Axes>"
      ]
     },
     "metadata": {},
     "output_type": "display_data"
    },
    {
     "data": {
      "image/png": "[encoded data removed]",
      "text/plain": [
       "<Figure size 432x288 with 1 Axes>"
      ]
     },
     "metadata": {},
     "output_type": "display_data"
    },
    {
     "data": {
      "image/png": "[encoded data removed]",
      "text/plain": [
       "<Figure size 432x288 with 1 Axes>"
      ]
     },
     "metadata": {},
     "output_type": "display_data"
    },
    {
     "data": {
      "image/png": "[encoded data removed]",
      "text/plain": [
       "<Figure size 432x288 with 1 Axes>"
      ]
     },
     "metadata": {},
     "output_type": "display_data"
    },
    {
     "data": {
      "image/png": "[encoded data removed]",
      "text/plain": [
       "<Figure size 432x288 with 1 Axes>"
      ]
     },
     "metadata": {},
     "output_type": "display_data"
    },
    {
     "data": {
      "image/png": "[encoded data removed]",
      "text/plain": [
       "<Figure size 432x288 with 1 Axes>"
      ]
     },
     "metadata": {},
     "output_type": "display_data"
    },
    {
     "data": {
      "image/png": "[encoded data removed]",
      "text/plain": [
       "<Figure size 432x288 with 1 Axes>"
      ]
     },
     "metadata": {},
     "output_type": "display_data"
    },
    {
     "data": {
      "image/png": "[encoded data removed]",
      "text/plain": [
       "<Figure size 432x288 with 1 Axes>"
      ]
     },
     "metadata": {},
     "output_type": "display_data"
    },
    {
     "data": {
      "image/png": "[encoded data removed]",
      "text/plain": [
       "<Figure size 432x288 with 1 Axes>"
      ]
     },
     "metadata": {},
     "output_type": "display_data"
    },
    {
     "data": {
      "image/png": "[encoded data removed]",
      "text/plain": [
       "<Figure size 432x288 with 1 Axes>"
      ]
     },
     "metadata": {},
     "output_type": "display_data"
    },
    {
     "data": {
      "image/png": "[encoded data removed]",
      "text/plain": [
       "<Figure size 432x288 with 1 Axes>"
      ]
     },
     "metadata": {},
     "output_type": "display_data"
    },
    {
     "data": {
      "image/png": "[encoded data removed]",
      "text/plain": [
       "<Figure size 432x288 with 1 Axes>"
      ]
     },
     "metadata": {},
     "output_type": "display_data"
    },
    {
     "data": {
      "image/png": "[encoded data removed]",
      "text/plain": [
       "<Figure size 432x288 with 1 Axes>"
      ]
     },
     "metadata": {},
     "output_type": "display_data"
    },
    {
     "data": {
      "image/png": "[encoded data removed]",
      "text/plain": [
       "<Figure size 432x288 with 1 Axes>"
      ]
     },
     "metadata": {},
     "output_type": "display_data"
    },
    {
     "data": {
      "image/png": "[encoded data removed]",
      "text/plain": [
       "<Figure size 432x288 with 1 Axes>"
      ]
     },
     "metadata": {},
     "output_type": "display_data"
    },
    {
     "data": {
      "image/png": "[encoded data removed]",
      "text/plain": [
       "<Figure size 432x288 with 1 Axes>"
      ]
     },
     "metadata": {},
     "output_type": "display_data"
    },
    {
     "data": {
      "image/png": "[encoded data removed]",
      "text/plain": [
       "<Figure size 432x288 with 1 Axes>"
      ]
     },
     "metadata": {},
     "output_type": "display_data"
    },
    {
     "data": {
      "image/png": "[encoded data removed]",
      "text/plain": [
       "<Figure size 432x288 with 1 Axes>"
      ]
     },
     "metadata": {},
     "output_type": "display_data"
    },
    {
     "data": {
      "image/png": "[encoded data removed]",
      "text/plain": [
       "<Figure size 432x288 with 1 Axes>"
      ]
     },
     "metadata": {},
     "output_type": "display_data"
    },
    {
     "data": {
      "image/png": "[encoded data removed]",
      "text/plain": [
       "<Figure size 432x288 with 1 Axes>"
      ]
     },
     "metadata": {},
     "output_type": "display_data"
    },
    {
     "data": {
      "image/png": "[encoded data removed]",
      "text/plain": [
       "<Figure size 432x288 with 1 Axes>"
      ]
     },
     "metadata": {},
     "output_type": "display_data"
    },
    {
     "data": {
      "image/png": "[encoded data removed]",
      "text/plain": [
       "<Figure size 432x288 with 1 Axes>"
      ]
     },
     "metadata": {},
     "output_type": "display_data"
    },
    {
     "data": {
      "image/png": "[encoded data removed]",
      "text/plain": [
       "<Figure size 432x288 with 1 Axes>"
      ]
     },
     "metadata": {},
     "output_type": "display_data"
    },
    {
     "data": {
      "image/png": "[encoded data removed]",
      "text/plain": [
       "<Figure size 432x288 with 1 Axes>"
      ]
     },
     "metadata": {},
     "output_type": "display_data"
    },
    {
     "data": {
      "image/png": "[encoded data removed]",
      "text/plain": [
       "<Figure size 432x288 with 1 Axes>"
      ]
     },
     "metadata": {},
     "output_type": "display_data"
    },
    {
     "data": {
      "image/png": "[encoded data removed]",
      "text/plain": [
       "<Figure size 432x288 with 1 Axes>"
      ]
     },
     "metadata": {},
     "output_type": "display_data"
    },
    {
     "data": {
      "image/png": "[encoded data removed]",
      "text/plain": [
       "<Figure size 432x288 with 1 Axes>"
      ]
     },
     "metadata": {},
     "output_type": "display_data"
    },
    {
     "data": {
      "image/png": "[encoded data removed]",
      "text/plain": [
       "<Figure size 432x288 with 1 Axes>"
      ]
     },
     "metadata": {},
     "output_type": "display_data"
    },
    {
     "data": {
      "image/png": "[encoded data removed]",
      "text/plain": [
       "<Figure size 432x288 with 1 Axes>"
      ]
     },
     "metadata": {},
     "output_type": "display_data"
    },
    {
     "data": {
      "image/png": "[encoded data removed]",
      "text/plain": [
       "<Figure size 432x288 with 1 Axes>"
      ]
     },
     "metadata": {},
     "output_type": "display_data"
    },
    {
     "data": {
      "image/png": "[encoded data removed]",
      "text/plain": [
       "<Figure size 432x288 with 1 Axes>"
      ]
     },
     "metadata": {},
     "output_type": "display_data"
    },
    {
     "data": {
      "image/png": "[encoded data removed]",
      "text/plain": [
       "<Figure size 432x288 with 1 Axes>"
      ]
     },
     "metadata": {},
     "output_type": "display_data"
    },
    {
     "data": {
      "image/png": "[encoded data removed]",
      "text/plain": [
       "<Figure size 432x288 with 1 Axes>"
      ]
     },
     "metadata": {},
     "output_type": "display_data"
    },
    {
     "data": {
      "image/png": "[encoded data removed]",
      "text/plain": [
       "<Figure size 432x288 with 1 Axes>"
      ]
     },
     "metadata": {},
     "output_type": "display_data"
    },
    {
     "data": {
      "image/png": "[encoded data removed]",
      "text/plain": [
       "<Figure size 432x288 with 1 Axes>"
      ]
     },
     "metadata": {},
     "output_type": "display_data"
    },
    {
     "data": {
      "image/png": "[encoded data removed]",
      "text/plain": [
       "<Figure size 432x288 with 1 Axes>"
      ]
     },
     "metadata": {},
     "output_type": "display_data"
    },
    {
     "data": {
      "image/png": "[encoded data removed]",
      "text/plain": [
       "<Figure size 432x288 with 1 Axes>"
      ]
     },
     "metadata": {},
     "output_type": "display_data"
    },
    {
     "data": {
      "image/png": "[encoded data removed]",
      "text/plain": [
       "<Figure size 432x288 with 1 Axes>"
      ]
     },
     "metadata": {},
     "output_type": "display_data"
    },
    {
     "data": {
      "image/png": "[encoded data removed]",
      "text/plain": [
       "<Figure size 432x288 with 1 Axes>"
      ]
     },
     "metadata": {},
     "output_type": "display_data"
    },
    {
     "data": {
      "image/png": "[encoded data removed]",
      "text/plain": [
       "<Figure size 432x288 with 1 Axes>"
      ]
     },
     "metadata": {},
     "output_type": "display_data"
    },
    {
     "data": {
      "image/png": "[encoded data removed]",
      "text/plain": [
       "<Figure size 432x288 with 1 Axes>"
      ]
     },
     "metadata": {},
     "output_type": "display_data"
    },
    {
     "data": {
      "image/png": "[encoded data removed]",
      "text/plain": [
       "<Figure size 432x288 with 1 Axes>"
      ]
     },
     "metadata": {},
     "output_type": "display_data"
    },
    {
     "data": {
      "image/png": "[encoded data removed]",
      "text/plain": [
       "<Figure size 432x288 with 1 Axes>"
      ]
     },
     "metadata": {},
     "output_type": "display_data"
    },
    {
     "data": {
      "image/png": "[encoded data removed]",
      "text/plain": [
       "<Figure size 432x288 with 1 Axes>"
      ]
     },
     "metadata": {},
     "output_type": "display_data"
    },
    {
     "data": {
      "image/png": "[encoded data removed]",
      "text/plain": [
       "<Figure size 432x288 with 1 Axes>"
      ]
     },
     "metadata": {},
     "output_type": "display_data"
    },
    {
     "data": {
      "image/png": "[encoded data removed]",
      "text/plain": [
       "<Figure size 432x288 with 1 Axes>"
      ]
     },
     "metadata": {},
     "output_type": "display_data"
    },
    {
     "data": {
      "image/png": "[encoded data removed]",
      "text/plain": [
       "<Figure size 432x288 with 1 Axes>"
      ]
     },
     "metadata": {},
     "output_type": "display_data"
    },
    {
     "data": {
      "image/png": "[encoded data removed]",
      "text/plain": [
       "<Figure size 432x288 with 1 Axes>"
      ]
     },
     "metadata": {},
     "output_type": "display_data"
    },
    {
     "data": {
      "image/png": "[encoded data removed]",
      "text/plain": [
       "<Figure size 432x288 with 1 Axes>"
      ]
     },
     "metadata": {},
     "output_type": "display_data"
    },
    {
     "data": {
      "image/png": "[encoded data removed]",
      "text/plain": [
       "<Figure size 432x288 with 1 Axes>"
      ]
     },
     "metadata": {},
     "output_type": "display_data"
    },
    {
     "data": {
      "image/png": "[encoded data removed]",
      "text/plain": [
       "<Figure size 432x288 with 1 Axes>"
      ]
     },
     "metadata": {},
     "output_type": "display_data"
    },
    {
     "data": {
      "image/png": "[encoded data removed]",
      "text/plain": [
       "<Figure size 432x288 with 1 Axes>"
      ]
     },
     "metadata": {},
     "output_type": "display_data"
    },
    {
     "data": {
      "image/png": "[encoded data removed]",
      "text/plain": [
       "<Figure size 432x288 with 1 Axes>"
      ]
     },
     "metadata": {},
     "output_type": "display_data"
    },
    {
     "data": {
      "image/png": "[encoded data removed]",
      "text/plain": [
       "<Figure size 432x288 with 1 Axes>"
      ]
     },
     "metadata": {},
     "output_type": "display_data"
    },
    {
     "data": {
      "image/png": "[encoded data removed]",
      "text/plain": [
       "<Figure size 432x288 with 1 Axes>"
      ]
     },
     "metadata": {},
     "output_type": "display_data"
    },
    {
     "data": {
      "image/png": "[encoded data removed]",
      "text/plain": [
       "<Figure size 432x288 with 1 Axes>"
      ]
     },
     "metadata": {},
     "output_type": "display_data"
    },
    {
     "data": {
      "image/png": "[encoded data removed]",
      "text/plain": [
       "<Figure size 432x288 with 1 Axes>"
      ]
     },
     "metadata": {},
     "output_type": "display_data"
    },
    {
     "data": {
      "image/png": "[encoded data removed]",
      "text/plain": [
       "<Figure size 432x288 with 1 Axes>"
      ]
     },
     "metadata": {},
     "output_type": "display_data"
    },
    {
     "data": {
      "image/png": "[encoded data removed]",
      "text/plain": [
       "<Figure size 432x288 with 1 Axes>"
      ]
     },
     "metadata": {},
     "output_type": "display_data"
    },
    {
     "data": {
      "image/png": "[encoded data removed]",
      "text/plain": [
       "<Figure size 432x288 with 1 Axes>"
      ]
     },
     "metadata": {},
     "output_type": "display_data"
    },
    {
     "data": {
      "image/png": "[encoded data removed]",
      "text/plain": [
       "<Figure size 432x288 with 1 Axes>"
      ]
     },
     "metadata": {},
     "output_type": "display_data"
    },
    {
     "data": {
      "image/png": "[encoded data removed]",
      "text/plain": [
       "<Figure size 432x288 with 1 Axes>"
      ]
     },
     "metadata": {},
     "output_type": "display_data"
    },
    {
     "data": {
      "image/png": "[encoded data removed]",
      "text/plain": [
       "<Figure size 432x288 with 1 Axes>"
      ]
     },
     "metadata": {},
     "output_type": "display_data"
    },
    {
     "data": {
      "image/png": "[encoded data removed]",
      "text/plain": [
       "<Figure size 432x288 with 1 Axes>"
      ]
     },
     "metadata": {},
     "output_type": "display_data"
    },
    {
     "data": {
      "image/png": "[encoded data removed]",
      "text/plain": [
       "<Figure size 432x288 with 1 Axes>"
      ]
     },
     "metadata": {},
     "output_type": "display_data"
    },
    {
     "data": {
      "image/png": "[encoded data removed]",
      "text/plain": [
       "<Figure size 432x288 with 1 Axes>"
      ]
     },
     "metadata": {},
     "output_type": "display_data"
    },
    {
     "data": {
      "image/png": "[encoded data removed]",
      "text/plain": [
       "<Figure size 432x288 with 1 Axes>"
      ]
     },
     "metadata": {},
     "output_type": "display_data"
    },
    {
     "data": {
      "image/png": "[encoded data removed]",
      "text/plain": [
       "<Figure size 432x288 with 1 Axes>"
      ]
     },
     "metadata": {},
     "output_type": "display_data"
    },
    {
     "data": {
      "image/png": "[encoded data removed]",
      "text/plain": [
       "<Figure size 432x288 with 1 Axes>"
      ]
     },
     "metadata": {},
     "output_type": "display_data"
    },
    {
     "data": {
      "image/png": "[encoded data removed]",
      "text/plain": [
       "<Figure size 432x288 with 1 Axes>"
      ]
     },
     "metadata": {},
     "output_type": "display_data"
    },
    {
     "data": {
      "image/png": "[encoded data removed]",
      "text/plain": [
       "<Figure size 432x288 with 1 Axes>"
      ]
     },
     "metadata": {},
     "output_type": "display_data"
    },
    {
     "data": {
      "image/png": "[encoded data removed]",
      "text/plain": [
       "<Figure size 432x288 with 1 Axes>"
      ]
     },
     "metadata": {},
     "output_type": "display_data"
    },
    {
     "data": {
      "image/png": "[encoded data removed]",
      "text/plain": [
       "<Figure size 432x288 with 1 Axes>"
      ]
     },
     "metadata": {},
     "output_type": "display_data"
    },
    {
     "data": {
      "image/png": "[encoded data removed]",
      "text/plain": [
       "<Figure size 432x288 with 1 Axes>"
      ]
     },
     "metadata": {},
     "output_type": "display_data"
    },
    {
     "data": {
      "image/png": "[encoded data removed]",
      "text/plain": [
       "<Figure size 432x288 with 1 Axes>"
      ]
     },
     "metadata": {},
     "output_type": "display_data"
    },
    {
     "data": {
      "image/png": "[encoded data removed]",
      "text/plain": [
       "<Figure size 432x288 with 1 Axes>"
      ]
     },
     "metadata": {},
     "output_type": "display_data"
    },
    {
     "data": {
      "image/png": "[encoded data removed]",
      "text/plain": [
       "<Figure size 432x288 with 1 Axes>"
      ]
     },
     "metadata": {},
     "output_type": "display_data"
    },
    {
     "data": {
      "image/png": "[encoded data removed]",
      "text/plain": [
       "<Figure size 432x288 with 1 Axes>"
      ]
     },
     "metadata": {},
     "output_type": "display_data"
    },
    {
     "data": {
      "image/png": "[encoded data removed]",
      "text/plain": [
       "<Figure size 432x288 with 1 Axes>"
      ]
     },
     "metadata": {},
     "output_type": "display_data"
    },
    {
     "data": {
      "image/png": "[encoded data removed]",
      "text/plain": [
       "<Figure size 432x288 with 1 Axes>"
      ]
     },
     "metadata": {},
     "output_type": "display_data"
    },
    {
     "data": {
      "image/png": "[encoded data removed]",
      "text/plain": [
       "<Figure size 432x288 with 1 Axes>"
      ]
     },
     "metadata": {},
     "output_type": "display_data"
    },
    {
     "data": {
      "image/png": "[encoded data removed]",
      "text/plain": [
       "<Figure size 432x288 with 1 Axes>"
      ]
     },
     "metadata": {},
     "output_type": "display_data"
    },
    {
     "data": {
      "image/png": "[encoded data removed]",
      "text/plain": [
       "<Figure size 432x288 with 1 Axes>"
      ]
     },
     "metadata": {},
     "output_type": "display_data"
    },
    {
     "data": {
      "image/png": "[encoded data removed]",
      "text/plain": [
       "<Figure size 432x288 with 1 Axes>"
      ]
     },
     "metadata": {},
     "output_type": "display_data"
    },
    {
     "data": {
      "image/png": "[encoded data removed]",
      "text/plain": [
       "<Figure size 432x288 with 1 Axes>"
      ]
     },
     "metadata": {},
     "output_type": "display_data"
    },
    {
     "data": {
      "image/png": "[encoded data removed]",
      "text/plain": [
       "<Figure size 432x288 with 1 Axes>"
      ]
     },
     "metadata": {},
     "output_type": "display_data"
    },
    {
     "data": {
      "image/png": "[encoded data removed]",
      "text/plain": [
       "<Figure size 432x288 with 1 Axes>"
      ]
     },
     "metadata": {},
     "output_type": "display_data"
    },
    {
     "data": {
      "image/png": "[encoded data removed]",
      "text/plain": [
       "<Figure size 432x288 with 1 Axes>"
      ]
     },
     "metadata": {},
     "output_type": "display_data"
    },
    {
     "data": {
      "image/png": "[encoded data removed]",
      "text/plain": [
       "<Figure size 432x288 with 1 Axes>"
      ]
     },
     "metadata": {},
     "output_type": "display_data"
    },
    {
     "data": {
      "image/png": "[encoded data removed]",
      "text/plain": [
       "<Figure size 432x288 with 1 Axes>"
      ]
     },
     "metadata": {},
     "output_type": "display_data"
    },
    {
     "data": {
      "image/png": "[encoded data removed]",
      "text/plain": [
       "<Figure size 432x288 with 1 Axes>"
      ]
     },
     "metadata": {},
     "output_type": "display_data"
    },
    {
     "data": {
      "image/png": "[encoded data removed]",
      "text/plain": [
       "<Figure size 432x288 with 1 Axes>"
      ]
     },
     "metadata": {},
     "output_type": "display_data"
    },
    {
     "ename": "IndexError",
     "evalue": "index 100 is out of bounds for axis 0 with size 100",
     "output_type": "error",
     "traceback": [
      "\u001b[0;31m---------------------------------------------------------------------------\u001b[0m",
      "\u001b[0;31mIndexError\u001b[0m                                Traceback (most recent call last)",
      "\u001b[0;32m<ipython-input-53-563b08853663>\u001b[0m in \u001b[0;36m<module>\u001b[0;34m\u001b[0m\n\u001b[1;32m     14\u001b[0m     \u001b[0mplt\u001b[0m\u001b[0;34m.\u001b[0m\u001b[0mgrid\u001b[0m\u001b[0;34m(\u001b[0m\u001b[0;32mFalse\u001b[0m\u001b[0;34m)\u001b[0m\u001b[0;34m\u001b[0m\u001b[0;34m\u001b[0m\u001b[0m\n\u001b[1;32m     15\u001b[0m     \u001b[0mdist\u001b[0m \u001b[0;34m=\u001b[0m \u001b[0mdistance\u001b[0m\u001b[0;34m.\u001b[0m\u001b[0meuclidean\u001b[0m\u001b[0;34m(\u001b[0m\u001b[0mdigits\u001b[0m\u001b[0;34m.\u001b[0m\u001b[0mdata\u001b[0m\u001b[0;34m[\u001b[0m\u001b[0;36m0\u001b[0m\u001b[0;34m]\u001b[0m\u001b[0;34m,\u001b[0m \u001b[0mdigits\u001b[0m\u001b[0;34m.\u001b[0m\u001b[0mdata\u001b[0m\u001b[0;34m[\u001b[0m\u001b[0mi\u001b[0m\u001b[0;34m]\u001b[0m\u001b[0;34m)\u001b[0m\u001b[0;34m\u001b[0m\u001b[0;34m\u001b[0m\u001b[0m\n\u001b[0;32m---> 16\u001b[0;31m     \u001b[0mdists\u001b[0m\u001b[0;34m[\u001b[0m\u001b[0mi\u001b[0m\u001b[0;34m]\u001b[0m\u001b[0;34m=\u001b[0m\u001b[0mdist\u001b[0m\u001b[0;34m\u001b[0m\u001b[0;34m\u001b[0m\u001b[0m\n\u001b[0m\u001b[1;32m     17\u001b[0m     \u001b[0mplt\u001b[0m\u001b[0;34m.\u001b[0m\u001b[0mtitle\u001b[0m\u001b[0;34m(\u001b[0m\u001b[0mdist\u001b[0m\u001b[0;34m)\u001b[0m\u001b[0;34m\u001b[0m\u001b[0;34m\u001b[0m\u001b[0m\n\u001b[1;32m     18\u001b[0m     \u001b[0mplt\u001b[0m\u001b[0;34m.\u001b[0m\u001b[0mimshow\u001b[0m\u001b[0;34m(\u001b[0m\u001b[0mdigits\u001b[0m\u001b[0;34m.\u001b[0m\u001b[0mimages\u001b[0m\u001b[0;34m[\u001b[0m\u001b[0mi\u001b[0m\u001b[0;34m]\u001b[0m\u001b[0;34m,\u001b[0m \u001b[0mcmap\u001b[0m\u001b[0;34m=\u001b[0m\u001b[0mplt\u001b[0m\u001b[0;34m.\u001b[0m\u001b[0mcm\u001b[0m\u001b[0;34m.\u001b[0m\u001b[0mbinary\u001b[0m\u001b[0;34m)\u001b[0m\u001b[0;34m\u001b[0m\u001b[0;34m\u001b[0m\u001b[0m\n",
      "\u001b[0;31mIndexError\u001b[0m: index 100 is out of bounds for axis 0 with size 100"
     ]
    },
    {
     "data": {
      "image/png": "[encoded data removed]",
      "text/plain": [
       "<Figure size 432x288 with 1 Axes>"
      ]
     },
     "metadata": {},
     "output_type": "display_data"
    }
   ],
   "source": [
    "from scipy.spatial import distance\n",
    "\n",
    "hists=np.zeros((300,256))\n",
    "dists=np.zeros((300,1))\n",
    "vals=[None]*10\n",
    "\n",
    "for i in range(100):\n",
    "    hist,bins=np.histogram(digits.data[0],256,[0,256])\n",
    "    hists[i]=hist\n",
    "plt.figure(figsize=(10,10))\n",
    "for i in range(1000):\n",
    "    plt.xticks([])\n",
    "    plt.yticks([])\n",
    "    plt.grid(False)\n",
    "    dist = distance.euclidean(digits.data[0], digits.data[i])\n",
    "    dists[i]=dist\n",
    "    plt.title(dist)\n",
    "    plt.imshow(digits.images[i], cmap=plt.cm.binary)\n",
    "    plt.show()"
   ]
  },
  {
   "cell_type": "code",
   "execution_count": 59,
   "metadata": {},
   "outputs": [
    {
     "name": "stdout",
     "output_type": "stream",
     "text": [
      "[0, 10, 20, 30, 36, 48, 49, 79, None, None]\n"
     ]
    }
   ],
   "source": [
    "x=0\n",
    "vals=[None]*10\n",
    "for y in range(100):\n",
    "    if(dists[y]<30):\n",
    "        vals[x]=y\n",
    "        x+=1\n",
    "    if(x==10):\n",
    "        break;\n",
    "print(vals)"
   ]
  },
  {
   "cell_type": "code",
   "execution_count": 56,
   "metadata": {},
   "outputs": [
    {
     "data": {
      "text/plain": [
       "array([54.12947441])"
      ]
     },
     "execution_count": 56,
     "metadata": {},
     "output_type": "execute_result"
    }
   ],
   "source": [
    "dists[2]"
   ]
  },
  {
   "cell_type": "code",
   "execution_count": 61,
   "metadata": {},
   "outputs": [
    {
     "data": {
      "image/png": "[encoded data removed]",
      "text/plain": [
       "<Figure size 720x720 with 1 Axes>"
      ]
     },
     "metadata": {},
     "output_type": "display_data"
    },
    {
     "data": {
      "image/png": "[encoded data removed]",
      "text/plain": [
       "<Figure size 432x288 with 1 Axes>"
      ]
     },
     "metadata": {},
     "output_type": "display_data"
    },
    {
     "data": {
      "image/png": "[encoded data removed]",
      "text/plain": [
       "<Figure size 432x288 with 1 Axes>"
      ]
     },
     "metadata": {},
     "output_type": "display_data"
    },
    {
     "data": {
      "image/png": "[encoded data removed]",
      "text/plain": [
       "<Figure size 432x288 with 1 Axes>"
      ]
     },
     "metadata": {},
     "output_type": "display_data"
    },
    {
     "data": {
      "image/png": "[encoded data removed]",
      "text/plain": [
       "<Figure size 432x288 with 1 Axes>"
      ]
     },
     "metadata": {},
     "output_type": "display_data"
    },
    {
     "data": {
      "image/png": "[encoded data removed]",
      "text/plain": [
       "<Figure size 432x288 with 1 Axes>"
      ]
     },
     "metadata": {},
     "output_type": "display_data"
    },
    {
     "data": {
      "image/png": "[encoded data removed]",
      "text/plain": [
       "<Figure size 432x288 with 1 Axes>"
      ]
     },
     "metadata": {},
     "output_type": "display_data"
    },
    {
     "data": {
      "image/png": "[encoded data removed]",
      "text/plain": [
       "<Figure size 432x288 with 1 Axes>"
      ]
     },
     "metadata": {},
     "output_type": "display_data"
    },
    {
     "ename": "TypeError",
     "evalue": "Invalid shape (1, 1797, 8, 8) for image data",
     "output_type": "error",
     "traceback": [
      "\u001b[0;31m---------------------------------------------------------------------------\u001b[0m",
      "\u001b[0;31mTypeError\u001b[0m                                 Traceback (most recent call last)",
      "\u001b[0;32m<ipython-input-61-9338948378d0>\u001b[0m in \u001b[0;36m<module>\u001b[0;34m\u001b[0m\n\u001b[1;32m      4\u001b[0m     \u001b[0mplt\u001b[0m\u001b[0;34m.\u001b[0m\u001b[0myticks\u001b[0m\u001b[0;34m(\u001b[0m\u001b[0;34m[\u001b[0m\u001b[0;34m]\u001b[0m\u001b[0;34m)\u001b[0m\u001b[0;34m\u001b[0m\u001b[0;34m\u001b[0m\u001b[0m\n\u001b[1;32m      5\u001b[0m     \u001b[0mplt\u001b[0m\u001b[0;34m.\u001b[0m\u001b[0mgrid\u001b[0m\u001b[0;34m(\u001b[0m\u001b[0;32mFalse\u001b[0m\u001b[0;34m)\u001b[0m\u001b[0;34m\u001b[0m\u001b[0;34m\u001b[0m\u001b[0m\n\u001b[0;32m----> 6\u001b[0;31m     \u001b[0mplt\u001b[0m\u001b[0;34m.\u001b[0m\u001b[0mimshow\u001b[0m\u001b[0;34m(\u001b[0m\u001b[0mdigits\u001b[0m\u001b[0;34m.\u001b[0m\u001b[0mimages\u001b[0m\u001b[0;34m[\u001b[0m\u001b[0mi\u001b[0m\u001b[0;34m]\u001b[0m\u001b[0;34m,\u001b[0m \u001b[0mcmap\u001b[0m\u001b[0;34m=\u001b[0m\u001b[0mplt\u001b[0m\u001b[0;34m.\u001b[0m\u001b[0mcm\u001b[0m\u001b[0;34m.\u001b[0m\u001b[0mbinary\u001b[0m\u001b[0;34m)\u001b[0m\u001b[0;34m\u001b[0m\u001b[0;34m\u001b[0m\u001b[0m\n\u001b[0m\u001b[1;32m      7\u001b[0m     \u001b[0mplt\u001b[0m\u001b[0;34m.\u001b[0m\u001b[0mshow\u001b[0m\u001b[0;34m(\u001b[0m\u001b[0;34m)\u001b[0m\u001b[0;34m\u001b[0m\u001b[0;34m\u001b[0m\u001b[0m\n",
      "\u001b[0;32m~/anaconda3/lib/python3.7/site-packages/matplotlib/pyplot.py\u001b[0m in \u001b[0;36mimshow\u001b[0;34m(X, cmap, norm, aspect, interpolation, alpha, vmin, vmax, origin, extent, shape, filternorm, filterrad, imlim, resample, url, data, **kwargs)\u001b[0m\n\u001b[1;32m   2675\u001b[0m         \u001b[0mfilternorm\u001b[0m\u001b[0;34m=\u001b[0m\u001b[0mfilternorm\u001b[0m\u001b[0;34m,\u001b[0m \u001b[0mfilterrad\u001b[0m\u001b[0;34m=\u001b[0m\u001b[0mfilterrad\u001b[0m\u001b[0;34m,\u001b[0m \u001b[0mimlim\u001b[0m\u001b[0;34m=\u001b[0m\u001b[0mimlim\u001b[0m\u001b[0;34m,\u001b[0m\u001b[0;34m\u001b[0m\u001b[0;34m\u001b[0m\u001b[0m\n\u001b[1;32m   2676\u001b[0m         resample=resample, url=url, **({\"data\": data} if data is not\n\u001b[0;32m-> 2677\u001b[0;31m         None else {}), **kwargs)\n\u001b[0m\u001b[1;32m   2678\u001b[0m     \u001b[0msci\u001b[0m\u001b[0;34m(\u001b[0m\u001b[0m__ret\u001b[0m\u001b[0;34m)\u001b[0m\u001b[0;34m\u001b[0m\u001b[0;34m\u001b[0m\u001b[0m\n\u001b[1;32m   2679\u001b[0m     \u001b[0;32mreturn\u001b[0m \u001b[0m__ret\u001b[0m\u001b[0;34m\u001b[0m\u001b[0;34m\u001b[0m\u001b[0m\n",
      "\u001b[0;32m~/anaconda3/lib/python3.7/site-packages/matplotlib/__init__.py\u001b[0m in \u001b[0;36minner\u001b[0;34m(ax, data, *args, **kwargs)\u001b[0m\n\u001b[1;32m   1587\u001b[0m     \u001b[0;32mdef\u001b[0m \u001b[0minner\u001b[0m\u001b[0;34m(\u001b[0m\u001b[0max\u001b[0m\u001b[0;34m,\u001b[0m \u001b[0;34m*\u001b[0m\u001b[0margs\u001b[0m\u001b[0;34m,\u001b[0m \u001b[0mdata\u001b[0m\u001b[0;34m=\u001b[0m\u001b[0;32mNone\u001b[0m\u001b[0;34m,\u001b[0m \u001b[0;34m**\u001b[0m\u001b[0mkwargs\u001b[0m\u001b[0;34m)\u001b[0m\u001b[0;34m:\u001b[0m\u001b[0;34m\u001b[0m\u001b[0;34m\u001b[0m\u001b[0m\n\u001b[1;32m   1588\u001b[0m         \u001b[0;32mif\u001b[0m \u001b[0mdata\u001b[0m \u001b[0;32mis\u001b[0m \u001b[0;32mNone\u001b[0m\u001b[0;34m:\u001b[0m\u001b[0;34m\u001b[0m\u001b[0;34m\u001b[0m\u001b[0m\n\u001b[0;32m-> 1589\u001b[0;31m             \u001b[0;32mreturn\u001b[0m \u001b[0mfunc\u001b[0m\u001b[0;34m(\u001b[0m\u001b[0max\u001b[0m\u001b[0;34m,\u001b[0m \u001b[0;34m*\u001b[0m\u001b[0mmap\u001b[0m\u001b[0;34m(\u001b[0m\u001b[0msanitize_sequence\u001b[0m\u001b[0;34m,\u001b[0m \u001b[0margs\u001b[0m\u001b[0;34m)\u001b[0m\u001b[0;34m,\u001b[0m \u001b[0;34m**\u001b[0m\u001b[0mkwargs\u001b[0m\u001b[0;34m)\u001b[0m\u001b[0;34m\u001b[0m\u001b[0;34m\u001b[0m\u001b[0m\n\u001b[0m\u001b[1;32m   1590\u001b[0m \u001b[0;34m\u001b[0m\u001b[0m\n\u001b[1;32m   1591\u001b[0m         \u001b[0mbound\u001b[0m \u001b[0;34m=\u001b[0m \u001b[0mnew_sig\u001b[0m\u001b[0;34m.\u001b[0m\u001b[0mbind\u001b[0m\u001b[0;34m(\u001b[0m\u001b[0max\u001b[0m\u001b[0;34m,\u001b[0m \u001b[0;34m*\u001b[0m\u001b[0margs\u001b[0m\u001b[0;34m,\u001b[0m \u001b[0;34m**\u001b[0m\u001b[0mkwargs\u001b[0m\u001b[0;34m)\u001b[0m\u001b[0;34m\u001b[0m\u001b[0;34m\u001b[0m\u001b[0m\n",
      "\u001b[0;32m~/anaconda3/lib/python3.7/site-packages/matplotlib/cbook/deprecation.py\u001b[0m in \u001b[0;36mwrapper\u001b[0;34m(*args, **kwargs)\u001b[0m\n\u001b[1;32m    367\u001b[0m                 \u001b[0;34mf\"%(removal)s.  If any parameter follows {name!r}, they \"\u001b[0m\u001b[0;34m\u001b[0m\u001b[0;34m\u001b[0m\u001b[0m\n\u001b[1;32m    368\u001b[0m                 f\"should be pass as keyword, not positionally.\")\n\u001b[0;32m--> 369\u001b[0;31m         \u001b[0;32mreturn\u001b[0m \u001b[0mfunc\u001b[0m\u001b[0;34m(\u001b[0m\u001b[0;34m*\u001b[0m\u001b[0margs\u001b[0m\u001b[0;34m,\u001b[0m \u001b[0;34m**\u001b[0m\u001b[0mkwargs\u001b[0m\u001b[0;34m)\u001b[0m\u001b[0;34m\u001b[0m\u001b[0;34m\u001b[0m\u001b[0m\n\u001b[0m\u001b[1;32m    370\u001b[0m \u001b[0;34m\u001b[0m\u001b[0m\n\u001b[1;32m    371\u001b[0m     \u001b[0;32mreturn\u001b[0m \u001b[0mwrapper\u001b[0m\u001b[0;34m\u001b[0m\u001b[0;34m\u001b[0m\u001b[0m\n",
      "\u001b[0;32m~/anaconda3/lib/python3.7/site-packages/matplotlib/cbook/deprecation.py\u001b[0m in \u001b[0;36mwrapper\u001b[0;34m(*args, **kwargs)\u001b[0m\n\u001b[1;32m    367\u001b[0m                 \u001b[0;34mf\"%(removal)s.  If any parameter follows {name!r}, they \"\u001b[0m\u001b[0;34m\u001b[0m\u001b[0;34m\u001b[0m\u001b[0m\n\u001b[1;32m    368\u001b[0m                 f\"should be pass as keyword, not positionally.\")\n\u001b[0;32m--> 369\u001b[0;31m         \u001b[0;32mreturn\u001b[0m \u001b[0mfunc\u001b[0m\u001b[0;34m(\u001b[0m\u001b[0;34m*\u001b[0m\u001b[0margs\u001b[0m\u001b[0;34m,\u001b[0m \u001b[0;34m**\u001b[0m\u001b[0mkwargs\u001b[0m\u001b[0;34m)\u001b[0m\u001b[0;34m\u001b[0m\u001b[0;34m\u001b[0m\u001b[0m\n\u001b[0m\u001b[1;32m    370\u001b[0m \u001b[0;34m\u001b[0m\u001b[0m\n\u001b[1;32m    371\u001b[0m     \u001b[0;32mreturn\u001b[0m \u001b[0mwrapper\u001b[0m\u001b[0;34m\u001b[0m\u001b[0;34m\u001b[0m\u001b[0m\n",
      "\u001b[0;32m~/anaconda3/lib/python3.7/site-packages/matplotlib/axes/_axes.py\u001b[0m in \u001b[0;36mimshow\u001b[0;34m(self, X, cmap, norm, aspect, interpolation, alpha, vmin, vmax, origin, extent, shape, filternorm, filterrad, imlim, resample, url, **kwargs)\u001b[0m\n\u001b[1;32m   5658\u001b[0m                               resample=resample, **kwargs)\n\u001b[1;32m   5659\u001b[0m \u001b[0;34m\u001b[0m\u001b[0m\n\u001b[0;32m-> 5660\u001b[0;31m         \u001b[0mim\u001b[0m\u001b[0;34m.\u001b[0m\u001b[0mset_data\u001b[0m\u001b[0;34m(\u001b[0m\u001b[0mX\u001b[0m\u001b[0;34m)\u001b[0m\u001b[0;34m\u001b[0m\u001b[0;34m\u001b[0m\u001b[0m\n\u001b[0m\u001b[1;32m   5661\u001b[0m         \u001b[0mim\u001b[0m\u001b[0;34m.\u001b[0m\u001b[0mset_alpha\u001b[0m\u001b[0;34m(\u001b[0m\u001b[0malpha\u001b[0m\u001b[0;34m)\u001b[0m\u001b[0;34m\u001b[0m\u001b[0;34m\u001b[0m\u001b[0m\n\u001b[1;32m   5662\u001b[0m         \u001b[0;32mif\u001b[0m \u001b[0mim\u001b[0m\u001b[0;34m.\u001b[0m\u001b[0mget_clip_path\u001b[0m\u001b[0;34m(\u001b[0m\u001b[0;34m)\u001b[0m \u001b[0;32mis\u001b[0m \u001b[0;32mNone\u001b[0m\u001b[0;34m:\u001b[0m\u001b[0;34m\u001b[0m\u001b[0;34m\u001b[0m\u001b[0m\n",
      "\u001b[0;32m~/anaconda3/lib/python3.7/site-packages/matplotlib/image.py\u001b[0m in \u001b[0;36mset_data\u001b[0;34m(self, A)\u001b[0m\n\u001b[1;32m    681\u001b[0m                 or self._A.ndim == 3 and self._A.shape[-1] in [3, 4]):\n\u001b[1;32m    682\u001b[0m             raise TypeError(\"Invalid shape {} for image data\"\n\u001b[0;32m--> 683\u001b[0;31m                             .format(self._A.shape))\n\u001b[0m\u001b[1;32m    684\u001b[0m \u001b[0;34m\u001b[0m\u001b[0m\n\u001b[1;32m    685\u001b[0m         \u001b[0;32mif\u001b[0m \u001b[0mself\u001b[0m\u001b[0;34m.\u001b[0m\u001b[0m_A\u001b[0m\u001b[0;34m.\u001b[0m\u001b[0mndim\u001b[0m \u001b[0;34m==\u001b[0m \u001b[0;36m3\u001b[0m\u001b[0;34m:\u001b[0m\u001b[0;34m\u001b[0m\u001b[0;34m\u001b[0m\u001b[0m\n",
      "\u001b[0;31mTypeError\u001b[0m: Invalid shape (1, 1797, 8, 8) for image data"
     ]
    },
    {
     "data": {
      "image/png": "[encoded data removed]",
      "text/plain": [
       "<Figure size 432x288 with 1 Axes>"
      ]
     },
     "metadata": {},
     "output_type": "display_data"
    }
   ],
   "source": [
    "plt.figure(figsize=(10,10))\n",
    "for i in vals:\n",
    "    plt.xticks([])\n",
    "    plt.yticks([])\n",
    "    plt.grid(False)\n",
    "    plt.imshow(digits.images[i], cmap=plt.cm.binary)\n",
    "    plt.show()"
   ]
  },
  {
   "cell_type": "code",
   "execution_count": null,
   "metadata": {},
   "outputs": [],
   "source": []
  }
 ],
 "metadata": {
  "kernelspec": {
   "display_name": "Python 3",
   "language": "python",
   "name": "python3"
  },
  "language_info": {
   "codemirror_mode": {
    "name": "ipython",
    "version": 3
   },
   "file_extension": ".py",
   "mimetype": "text/x-python",
   "name": "python",
   "nbconvert_exporter": "python",
   "pygments_lexer": "ipython3",
   "version": "3.7.3-final"
  }
 },
 "nbformat": 4,
 "nbformat_minor": 2
}